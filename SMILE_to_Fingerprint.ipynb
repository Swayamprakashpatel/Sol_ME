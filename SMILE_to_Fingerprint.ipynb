{
  "cells": [
    {
      "cell_type": "markdown",
      "metadata": {
        "id": "view-in-github",
        "colab_type": "text"
      },
      "source": [
        "<a href=\"https://colab.research.google.com/github/Swayamprakashpatel/Sol_ME/blob/main/SMILE_to_Fingerprint.ipynb\" target=\"_parent\"><img src=\"https://colab.research.google.com/assets/colab-badge.svg\" alt=\"Open In Colab\"/></a>"
      ]
    },
    {
      "cell_type": "code",
      "source": [
        "#installing the library\n",
        "!pip install padelpy\n",
        "\n",
        "\n",
        "#Downloading the XML data files\n",
        "!wget https://github.com/dataprofessor/padel/raw/main/fingerprints_xml.zip\n",
        "!unzip fingerprints_xml.zip\n",
        "\n",
        "\n",
        "#listing and sorting the downloaded files\n",
        "import glob\n",
        "xml_files = glob.glob(\"*.xml\")\n",
        "xml_files.sort()\n",
        "xml_files\n",
        "\n",
        "\n",
        "#Creating a list of present files\n",
        "FP_list = ['AtomPairs2DCount',\n",
        " 'AtomPairs2D',\n",
        " 'EState',\n",
        " 'CDKextended',\n",
        " 'CDK',\n",
        " 'CDKgraphonly',\n",
        " 'KlekotaRothCount',\n",
        " 'KlekotaRoth',\n",
        " 'MACCS',\n",
        " 'PubChem',\n",
        " 'SubstructureCount',\n",
        " 'Substructure']\n",
        "\n",
        "\n",
        " #Creating Data Dictionary\n",
        "fp = dict(zip(FP_list, xml_files))\n",
        "fp\n",
        "\n",
        "\n",
        "#Importing the file to be used \n",
        "fp['AtomPairs2D']\n",
        "\n",
        "#Loading the dataset\n",
        "import pandas as pd\n",
        "df = pd.read_excel('/content/Drug_SMILE.xlsx')\n",
        "\n",
        "#loading data head\n",
        "df.head()\n",
        "\n",
        "#Conactnating necessary columns\n",
        "df2 = pd.concat( [df['SMILE'],df['Drug_ID']], axis=1 )\n",
        "df2.to_csv('molecule.smi', sep='\\t', index=False, header=False)\n",
        "df2\n",
        "\n",
        "#Setting the fingerprint module\n",
        "\n",
        "from padelpy import padeldescriptor\n",
        "\n",
        "fingerprint = 'PubChem'\n",
        "\n",
        "fingerprint_output_file = ''.join([fingerprint,'.csv']) #Substructure.csv\n",
        "fingerprint_descriptortypes = fp[fingerprint]\n",
        "\n",
        "padeldescriptor(mol_dir='molecule.smi', \n",
        "                d_file=fingerprint_output_file, #'Substructure.csv'\n",
        "                #descriptortypes='SubstructureFingerprint.xml', \n",
        "                descriptortypes= fingerprint_descriptortypes,\n",
        "                detectaromaticity=True,\n",
        "                standardizenitro=True,\n",
        "                standardizetautomers=True,\n",
        "                threads=5,\n",
        "                removesalt=True,\n",
        "                log=True,\n",
        "                fingerprints=True)\n",
        "\n",
        "descriptors = pd.read_csv(fingerprint_output_file, engine='python')\n",
        "descriptors.to_csv ('Fingerprint.csv')\n",
        "descriptors"
      ],
      "metadata": {
        "id": "IbQNGm6rbhPo",
        "outputId": "d743e1e6-718d-404d-e974-b45b5a73512a",
        "colab": {
          "base_uri": "https://localhost:8080/"
        }
      },
      "execution_count": null,
      "outputs": [
        {
          "output_type": "stream",
          "name": "stdout",
          "text": [
            "Looking in indexes: https://pypi.org/simple, https://us-python.pkg.dev/colab-wheels/public/simple/\n",
            "Requirement already satisfied: padelpy in /usr/local/lib/python3.10/dist-packages (0.1.14)\n",
            "--2023-05-12 05:34:21--  https://github.com/dataprofessor/padel/raw/main/fingerprints_xml.zip\n",
            "Resolving github.com (github.com)... 140.82.114.3\n",
            "Connecting to github.com (github.com)|140.82.114.3|:443... connected.\n",
            "HTTP request sent, awaiting response... 302 Found\n",
            "Location: https://raw.githubusercontent.com/dataprofessor/padel/main/fingerprints_xml.zip [following]\n",
            "--2023-05-12 05:34:21--  https://raw.githubusercontent.com/dataprofessor/padel/main/fingerprints_xml.zip\n",
            "Resolving raw.githubusercontent.com (raw.githubusercontent.com)... 185.199.108.133, 185.199.109.133, 185.199.110.133, ...\n",
            "Connecting to raw.githubusercontent.com (raw.githubusercontent.com)|185.199.108.133|:443... connected.\n",
            "HTTP request sent, awaiting response... 200 OK\n",
            "Length: 10871 (11K) [application/zip]\n",
            "Saving to: ‘fingerprints_xml.zip.5’\n",
            "\n",
            "fingerprints_xml.zi 100%[===================>]  10.62K  --.-KB/s    in 0s      \n",
            "\n",
            "2023-05-12 05:34:21 (101 MB/s) - ‘fingerprints_xml.zip.5’ saved [10871/10871]\n",
            "\n",
            "Archive:  fingerprints_xml.zip\n",
            "replace AtomPairs2DFingerprintCount.xml? [y]es, [n]o, [A]ll, [N]one, [r]ename: A\n",
            "  inflating: AtomPairs2DFingerprintCount.xml  \n",
            "  inflating: AtomPairs2DFingerprinter.xml  \n",
            "  inflating: EStateFingerprinter.xml  \n",
            "  inflating: ExtendedFingerprinter.xml  \n",
            "  inflating: Fingerprinter.xml       \n",
            "  inflating: GraphOnlyFingerprinter.xml  \n",
            "  inflating: KlekotaRothFingerprintCount.xml  \n",
            "  inflating: KlekotaRothFingerprinter.xml  \n",
            "  inflating: MACCSFingerprinter.xml  \n",
            "  inflating: PubchemFingerprinter.xml  \n",
            "  inflating: SubstructureFingerprintCount.xml  \n",
            "  inflating: SubstructureFingerprinter.xml  \n"
          ]
        }
      ]
    },
    {
      "cell_type": "code",
      "source": [],
      "metadata": {
        "id": "SmqXC0wdbvGf"
      },
      "execution_count": null,
      "outputs": []
    }
  ],
  "metadata": {
    "colab": {
      "provenance": [],
      "authorship_tag": "ABX9TyMjJG2oP5DEgIu0BCTsGLDX",
      "include_colab_link": true
    },
    "kernelspec": {
      "display_name": "Python 3",
      "name": "python3"
    },
    "language_info": {
      "name": "python"
    }
  },
  "nbformat": 4,
  "nbformat_minor": 0
}