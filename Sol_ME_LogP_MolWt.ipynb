{
  "cells": [
    {
      "cell_type": "markdown",
      "metadata": {
        "id": "view-in-github",
        "colab_type": "text"
      },
      "source": [
        "<a href=\"https://colab.research.google.com/github/Swayamprakashpatel/Sol_ME/blob/main/Sol_ME_LogP_MolWt.ipynb\" target=\"_parent\"><img src=\"https://colab.research.google.com/assets/colab-badge.svg\" alt=\"Open In Colab\"/></a>"
      ]
    },
    {
      "cell_type": "code",
      "execution_count": 7,
      "metadata": {
        "id": "CYDFYbE7Lwxg",
        "outputId": "2843ad89-625f-4161-fc0e-2a46019ca21d",
        "colab": {
          "base_uri": "https://localhost:8080/"
        }
      },
      "outputs": [
        {
          "output_type": "stream",
          "name": "stdout",
          "text": [
            "(1315, 1768)\n"
          ]
        }
      ],
      "source": [
        "import tensorflow as tf\n",
        "import matplotlib.pyplot as plt\n",
        "import pandas as pd \n",
        "import numpy as np \n",
        "import io\n",
        "#df = pd.read_csv('/content/drive/My Drive/DE.csv', low_memory=False,)\n",
        "url = '/content/Data_FP_9R.csv'\n",
        "df = pd.read_csv(url, low_memory=False,) # Run for labeled data\n",
        " \n",
        "#df.fillna('&',inplace=True)\n",
        "df.drop('DRUG', axis = 1, inplace = True)\n",
        "df.drop('CARRIER', axis = 1, inplace = True)\n",
        "\n",
        "print(df.shape)\n",
        "df.head()\n",
        "df.dtypes\n",
        "#df.columns[df.isna().any()].tolist()\n",
        "dataset = df.values"
      ]
    },
    {
      "cell_type": "code",
      "source": [
        "print(dataset)"
      ],
      "metadata": {
        "id": "pwFuJMj72rkO",
        "outputId": "47b936e0-5531-4732-fd94-536dce7414aa",
        "colab": {
          "base_uri": "https://localhost:8080/"
        }
      },
      "execution_count": 8,
      "outputs": [
        {
          "output_type": "stream",
          "name": "stdout",
          "text": [
            "[[272.25 611.7 2.4 ... 0 4.86 '0-5']\n",
            " [272.25 356.5 2.4 ... 0 15.57 ' 11-15']\n",
            " [272.25 354.5 2.4 ... 0 27.58 '26-30']\n",
            " ...\n",
            " [959.1 62.07 0.1 ... 0 41.61 '41-45']\n",
            " [959.1 1023.2 0.1 ... 0 3.22 '0-5']\n",
            " [959.1 60.1 0.1 ... 0 7.51 ' 6-10']]\n"
          ]
        }
      ]
    },
    {
      "cell_type": "code",
      "execution_count": 18,
      "metadata": {
        "id": "_PkGWMn0MR2W",
        "outputId": "96a2736f-0a61-499d-9073-a2449f06d241",
        "colab": {
          "base_uri": "https://localhost:8080/"
        }
      },
      "outputs": [
        {
          "output_type": "stream",
          "name": "stdout",
          "text": [
            "<bound method NDFrame.head of       0     1     2     3     4     5     6     7     8     9     ...  1756  \\\n",
            "0        0     0     0     0     1     1     0     0     0     0  ...     0   \n",
            "1        0     0     0     0     1     1     0     0     0     0  ...     0   \n",
            "2        0     0     0     0     1     1     0     0     0     0  ...     0   \n",
            "3        0     0     0     0     1     1     0     0     0     0  ...     0   \n",
            "4        0     0     0     0     1     1     0     0     0     0  ...     0   \n",
            "...    ...   ...   ...   ...   ...   ...   ...   ...   ...   ...  ...   ...   \n",
            "1310     0     0     0     0     1     1     1     1     0     0  ...     0   \n",
            "1311     0     0     0     0     1     1     1     1     0     0  ...     0   \n",
            "1312     0     0     0     0     1     1     1     1     0     0  ...     0   \n",
            "1313     0     1     0     0     1     1     1     1     0     0  ...     0   \n",
            "1314     0     0     0     0     1     1     1     1     0     0  ...     0   \n",
            "\n",
            "      1757  1758  1759  1760  1761  1762  1763  1764  1765  \n",
            "0        0     0     0     0     0     0     0     0     0  \n",
            "1        0     0     0     0     0     0     0     0     0  \n",
            "2        0     0     0     0     0     0     0     0     0  \n",
            "3        0     0     0     0     0     0     0     0     0  \n",
            "4        0     0     0     0     0     0     0     0     0  \n",
            "...    ...   ...   ...   ...   ...   ...   ...   ...   ...  \n",
            "1310     0     0     0     0     0     0     0     0     0  \n",
            "1311     0     0     0     0     0     0     0     0     0  \n",
            "1312     0     0     0     0     0     0     0     0     0  \n",
            "1313     0     0     0     0     0     0     0     0     0  \n",
            "1314     0     0     0     0     0     0     0     0     0  \n",
            "\n",
            "[1315 rows x 1766 columns]>\n"
          ]
        }
      ],
      "source": [
        "X1 = dataset[:,0:1]/1000 #(standardize wiht 1000)Mol.Wt of Drug\n",
        "X2 = dataset[:,1:2]/1000 #(standardize wiht 1000)Mol Wt of Carrier\n",
        "X3 = dataset[:,2:3]/100 #(standardize wiht 100)LogP of Drug\n",
        "X4 = dataset[:,3:4]/100 #(standardize wiht 100)LogP of Drug\n",
        "X5 = dataset[:,4:1766]\n",
        "X = np.concatenate((X1, X2, X3, X4, X5), axis=1)\n",
        "X = X.astype(np.int64)\n",
        "#Y = dataset[:,1762:1763]\n",
        "# Run this for labeled data\n",
        "Y = dataset[:,1766:1767]\n",
        "Y = Y.astype(np.int64)\n",
        "\n",
        "#Y = np.log(Y) \n",
        "#print(X, X.shape,X.dtype)\n",
        "#print(Y, Y.shape, Y.dtype)\n",
        "#print(X, X.shape,Y, Y.shape)\n",
        "print(pd.DataFrame(X).head)"
      ]
    },
    {
      "cell_type": "code",
      "source": [
        "print(Y)\n"
      ],
      "metadata": {
        "colab": {
          "base_uri": "https://localhost:8080/"
        },
        "id": "DELIMJX7IUBy",
        "outputId": "c779a312-e112-4e1b-b2a4-c1c56a7e0bf3"
      },
      "execution_count": 14,
      "outputs": [
        {
          "output_type": "stream",
          "name": "stdout",
          "text": [
            "[[4.86]\n",
            " [15.57]\n",
            " [27.58]\n",
            " ...\n",
            " [41.61]\n",
            " [3.22]\n",
            " [7.51]]\n"
          ]
        }
      ]
    },
    {
      "cell_type": "code",
      "execution_count": 19,
      "metadata": {
        "id": "HjBna8fTMZ44",
        "outputId": "f257c12c-59fe-4751-8abb-1f027517c746",
        "colab": {
          "base_uri": "https://localhost:8080/"
        }
      },
      "outputs": [
        {
          "output_type": "stream",
          "name": "stdout",
          "text": [
            "1\n"
          ]
        }
      ],
      "source": [
        "from sklearn import preprocessing\n",
        "from sklearn.model_selection import train_test_split\n",
        "X_train, X_val_and_test, Y_train, Y_val_and_test = train_test_split(X, Y, test_size=0.2,random_state = 10 )\n",
        "X_val, X_test, Y_val, Y_test = train_test_split(X_val_and_test, Y_val_and_test, test_size=0.5, random_state= 10)\n",
        "import numpy as np\n",
        " \n",
        "X_train = np.asarray(X_train).astype(np.int64)\n",
        "X_val = np.asarray(X_val).astype(np.int64)\n",
        "X_test = np.asarray(X_test).astype(np.int64)\n",
        "Y_train = np.asarray(Y_train).astype(np.int64)\n",
        "Y_val = np.asarray(Y_val).astype(np.int64)\n",
        "Y_test = np.asarray(Y_test).astype(np.int64)\n",
        " \n",
        "filepath = '/content/drive/My Drive/SOLModel.hdf5'\n",
        " \n",
        "checkpoint = [tf.keras.callbacks.ModelCheckpoint(filepath, monitor='val_root_mean_squared_error', mode='min', save_best_only=True, Save_weights_only = False, verbose = 1), \n",
        "              tf.keras.callbacks.EarlyStopping(monitor='val_root_mean_squared_error', patience=575, verbose =1)]\n",
        "output_nodes = Y.shape[1]\n",
        "print(output_nodes)\n"
      ]
    },
    {
      "cell_type": "code",
      "execution_count": null,
      "metadata": {
        "id": "gpfXKFM52New",
        "outputId": "188d2e5b-4792-4572-8c5a-3d730bb55c90",
        "colab": {
          "base_uri": "https://localhost:8080/"
        }
      },
      "outputs": [
        {
          "output_type": "stream",
          "name": "stdout",
          "text": [
            "Epoch 1/10000\n",
            "41/42 [============================>.] - ETA: 0s - loss: 6640.6899 - root_mean_squared_error: 81.4904\n",
            "Epoch 1: val_root_mean_squared_error improved from inf to 79.49091, saving model to /content/drive/My Drive/SOLModel.hdf5\n",
            "42/42 [==============================] - 2s 26ms/step - loss: 6626.6016 - root_mean_squared_error: 81.4039 - val_loss: 6318.8047 - val_root_mean_squared_error: 79.4909\n",
            "Epoch 2/10000\n",
            "40/42 [===========================>..] - ETA: 0s - loss: 5641.2720 - root_mean_squared_error: 75.1084\n",
            "Epoch 2: val_root_mean_squared_error did not improve from 79.49091\n",
            "42/42 [==============================] - 1s 22ms/step - loss: 5731.8823 - root_mean_squared_error: 75.7092 - val_loss: 6603.9727 - val_root_mean_squared_error: 81.2648\n",
            "Epoch 3/10000\n",
            "39/42 [==========================>...] - ETA: 0s - loss: 4912.9941 - root_mean_squared_error: 70.0928\n",
            "Epoch 3: val_root_mean_squared_error improved from 79.49091 to 69.65485, saving model to /content/drive/My Drive/SOLModel.hdf5\n",
            "42/42 [==============================] - 1s 28ms/step - loss: 5007.0474 - root_mean_squared_error: 70.7605 - val_loss: 4851.7983 - val_root_mean_squared_error: 69.6549\n",
            "Epoch 4/10000\n",
            "39/42 [==========================>...] - ETA: 0s - loss: 4260.7983 - root_mean_squared_error: 65.2748\n",
            "Epoch 4: val_root_mean_squared_error improved from 69.65485 to 62.80433, saving model to /content/drive/My Drive/SOLModel.hdf5\n",
            "42/42 [==============================] - 1s 23ms/step - loss: 4370.3335 - root_mean_squared_error: 66.1085 - val_loss: 3944.3835 - val_root_mean_squared_error: 62.8043\n",
            "Epoch 5/10000\n",
            "41/42 [============================>.] - ETA: 0s - loss: 3880.6064 - root_mean_squared_error: 62.2945\n",
            "Epoch 5: val_root_mean_squared_error did not improve from 62.80433\n",
            "42/42 [==============================] - 1s 22ms/step - loss: 3873.8948 - root_mean_squared_error: 62.2406 - val_loss: 4457.4214 - val_root_mean_squared_error: 66.7639\n",
            "Epoch 6/10000\n",
            "42/42 [==============================] - ETA: 0s - loss: 3866.7393 - root_mean_squared_error: 62.1831\n",
            "Epoch 6: val_root_mean_squared_error improved from 62.80433 to 57.35156, saving model to /content/drive/My Drive/SOLModel.hdf5\n",
            "42/42 [==============================] - 1s 28ms/step - loss: 3866.7393 - root_mean_squared_error: 62.1831 - val_loss: 3289.2014 - val_root_mean_squared_error: 57.3516\n",
            "Epoch 7/10000\n",
            "42/42 [==============================] - ETA: 0s - loss: 3436.5623 - root_mean_squared_error: 58.6222\n",
            "Epoch 7: val_root_mean_squared_error did not improve from 57.35156\n",
            "42/42 [==============================] - 1s 31ms/step - loss: 3436.5623 - root_mean_squared_error: 58.6222 - val_loss: 4472.2812 - val_root_mean_squared_error: 66.8751\n",
            "Epoch 8/10000\n",
            "41/42 [============================>.] - ETA: 0s - loss: 3289.9822 - root_mean_squared_error: 57.3584\n",
            "Epoch 8: val_root_mean_squared_error improved from 57.35156 to 54.92176, saving model to /content/drive/My Drive/SOLModel.hdf5\n",
            "42/42 [==============================] - 1s 28ms/step - loss: 3299.2041 - root_mean_squared_error: 57.4387 - val_loss: 3016.3997 - val_root_mean_squared_error: 54.9218\n",
            "Epoch 9/10000\n",
            "39/42 [==========================>...] - ETA: 0s - loss: 3054.6658 - root_mean_squared_error: 55.2690\n",
            "Epoch 9: val_root_mean_squared_error improved from 54.92176 to 52.51623, saving model to /content/drive/My Drive/SOLModel.hdf5\n",
            "42/42 [==============================] - 1s 23ms/step - loss: 3106.4636 - root_mean_squared_error: 55.7357 - val_loss: 2757.9546 - val_root_mean_squared_error: 52.5162\n",
            "Epoch 10/10000\n",
            "40/42 [===========================>..] - ETA: 0s - loss: 2789.6243 - root_mean_squared_error: 52.8169\n",
            "Epoch 10: val_root_mean_squared_error did not improve from 52.51623\n",
            "42/42 [==============================] - 1s 35ms/step - loss: 2890.6118 - root_mean_squared_error: 53.7644 - val_loss: 2977.9795 - val_root_mean_squared_error: 54.5709\n",
            "Epoch 11/10000\n",
            "40/42 [===========================>..] - ETA: 0s - loss: 2741.3154 - root_mean_squared_error: 52.3576\n",
            "Epoch 11: val_root_mean_squared_error improved from 52.51623 to 50.33118, saving model to /content/drive/My Drive/SOLModel.hdf5\n",
            "42/42 [==============================] - 1s 25ms/step - loss: 2889.9326 - root_mean_squared_error: 53.7581 - val_loss: 2533.2273 - val_root_mean_squared_error: 50.3312\n",
            "Epoch 12/10000\n",
            "39/42 [==========================>...] - ETA: 0s - loss: 2627.5574 - root_mean_squared_error: 51.2597\n",
            "Epoch 12: val_root_mean_squared_error improved from 50.33118 to 50.13604, saving model to /content/drive/My Drive/SOLModel.hdf5\n",
            "42/42 [==============================] - 1s 24ms/step - loss: 2730.7073 - root_mean_squared_error: 52.2562 - val_loss: 2513.6223 - val_root_mean_squared_error: 50.1360\n",
            "Epoch 13/10000\n",
            "41/42 [============================>.] - ETA: 0s - loss: 2662.0559 - root_mean_squared_error: 51.5951\n",
            "Epoch 13: val_root_mean_squared_error did not improve from 50.13604\n",
            "42/42 [==============================] - 1s 23ms/step - loss: 2670.2402 - root_mean_squared_error: 51.6744 - val_loss: 2976.4653 - val_root_mean_squared_error: 54.5570\n",
            "Epoch 14/10000\n",
            "42/42 [==============================] - ETA: 0s - loss: 2703.3508 - root_mean_squared_error: 51.9938\n",
            "Epoch 14: val_root_mean_squared_error did not improve from 50.13604\n",
            "42/42 [==============================] - 2s 37ms/step - loss: 2703.3508 - root_mean_squared_error: 51.9938 - val_loss: 2772.6455 - val_root_mean_squared_error: 52.6559\n",
            "Epoch 15/10000\n",
            "42/42 [==============================] - ETA: 0s - loss: 2499.3613 - root_mean_squared_error: 49.9936\n",
            "Epoch 15: val_root_mean_squared_error improved from 50.13604 to 47.75668, saving model to /content/drive/My Drive/SOLModel.hdf5\n",
            "42/42 [==============================] - 2s 42ms/step - loss: 2499.3613 - root_mean_squared_error: 49.9936 - val_loss: 2280.7004 - val_root_mean_squared_error: 47.7567\n",
            "Epoch 16/10000\n",
            "39/42 [==========================>...] - ETA: 0s - loss: 2539.3254 - root_mean_squared_error: 50.3917\n",
            "Epoch 16: val_root_mean_squared_error improved from 47.75668 to 46.64777, saving model to /content/drive/My Drive/SOLModel.hdf5\n",
            "42/42 [==============================] - 1s 22ms/step - loss: 2460.8245 - root_mean_squared_error: 49.6067 - val_loss: 2176.0144 - val_root_mean_squared_error: 46.6478\n",
            "Epoch 17/10000\n",
            "42/42 [==============================] - ETA: 0s - loss: 2305.5879 - root_mean_squared_error: 48.0165\n",
            "Epoch 17: val_root_mean_squared_error did not improve from 46.64777\n",
            "42/42 [==============================] - 1s 24ms/step - loss: 2305.5879 - root_mean_squared_error: 48.0165 - val_loss: 2385.2986 - val_root_mean_squared_error: 48.8395\n",
            "Epoch 18/10000\n",
            "41/42 [============================>.] - ETA: 0s - loss: 2340.7764 - root_mean_squared_error: 48.3816\n",
            "Epoch 18: val_root_mean_squared_error improved from 46.64777 to 44.75981, saving model to /content/drive/My Drive/SOLModel.hdf5\n",
            "42/42 [==============================] - 1s 22ms/step - loss: 2335.5486 - root_mean_squared_error: 48.3275 - val_loss: 2003.4406 - val_root_mean_squared_error: 44.7598\n",
            "Epoch 19/10000\n",
            "39/42 [==========================>...] - ETA: 0s - loss: 2264.1511 - root_mean_squared_error: 47.5831\n",
            "Epoch 19: val_root_mean_squared_error improved from 44.75981 to 44.59093, saving model to /content/drive/My Drive/SOLModel.hdf5\n",
            "42/42 [==============================] - 1s 22ms/step - loss: 2232.4890 - root_mean_squared_error: 47.2492 - val_loss: 1988.3512 - val_root_mean_squared_error: 44.5909\n",
            "Epoch 20/10000\n",
            "39/42 [==========================>...] - ETA: 0s - loss: 2183.7932 - root_mean_squared_error: 46.7311\n",
            "Epoch 20: val_root_mean_squared_error did not improve from 44.59093\n",
            "42/42 [==============================] - 1s 23ms/step - loss: 2144.4387 - root_mean_squared_error: 46.3081 - val_loss: 2492.8616 - val_root_mean_squared_error: 49.9286\n",
            "Epoch 21/10000\n",
            "39/42 [==========================>...] - ETA: 0s - loss: 2126.6494 - root_mean_squared_error: 46.1156\n",
            "Epoch 21: val_root_mean_squared_error improved from 44.59093 to 43.48086, saving model to /content/drive/My Drive/SOLModel.hdf5\n",
            "42/42 [==============================] - 1s 27ms/step - loss: 2084.0151 - root_mean_squared_error: 45.6510 - val_loss: 1890.5853 - val_root_mean_squared_error: 43.4809\n",
            "Epoch 22/10000\n",
            "40/42 [===========================>..] - ETA: 0s - loss: 2002.9596 - root_mean_squared_error: 44.7544\n",
            "Epoch 22: val_root_mean_squared_error improved from 43.48086 to 42.54364, saving model to /content/drive/My Drive/SOLModel.hdf5\n",
            "42/42 [==============================] - 1s 23ms/step - loss: 2082.9446 - root_mean_squared_error: 45.6393 - val_loss: 1809.9614 - val_root_mean_squared_error: 42.5436\n",
            "Epoch 23/10000\n",
            "42/42 [==============================] - ETA: 0s - loss: 2008.9656 - root_mean_squared_error: 44.8215\n",
            "Epoch 23: val_root_mean_squared_error improved from 42.54364 to 41.78950, saving model to /content/drive/My Drive/SOLModel.hdf5\n",
            "42/42 [==============================] - 1s 22ms/step - loss: 2008.9656 - root_mean_squared_error: 44.8215 - val_loss: 1746.3619 - val_root_mean_squared_error: 41.7895\n",
            "Epoch 24/10000\n",
            "41/42 [============================>.] - ETA: 0s - loss: 1935.5999 - root_mean_squared_error: 43.9955\n",
            "Epoch 24: val_root_mean_squared_error did not improve from 41.78950\n",
            "42/42 [==============================] - 1s 19ms/step - loss: 1931.8789 - root_mean_squared_error: 43.9531 - val_loss: 1747.9370 - val_root_mean_squared_error: 41.8083\n",
            "Epoch 25/10000\n",
            "39/42 [==========================>...] - ETA: 0s - loss: 1933.0182 - root_mean_squared_error: 43.9661\n",
            "Epoch 25: val_root_mean_squared_error improved from 41.78950 to 41.77606, saving model to /content/drive/My Drive/SOLModel.hdf5\n",
            "42/42 [==============================] - 1s 22ms/step - loss: 1883.3510 - root_mean_squared_error: 43.3976 - val_loss: 1745.2394 - val_root_mean_squared_error: 41.7761\n",
            "Epoch 26/10000\n",
            "39/42 [==========================>...] - ETA: 0s - loss: 1829.5922 - root_mean_squared_error: 42.7737\n",
            "Epoch 26: val_root_mean_squared_error improved from 41.77606 to 40.76530, saving model to /content/drive/My Drive/SOLModel.hdf5\n",
            "42/42 [==============================] - 1s 25ms/step - loss: 1850.9932 - root_mean_squared_error: 43.0232 - val_loss: 1661.8094 - val_root_mean_squared_error: 40.7653\n",
            "Epoch 27/10000\n",
            "40/42 [===========================>..] - ETA: 0s - loss: 1761.9812 - root_mean_squared_error: 41.9760\n",
            "Epoch 27: val_root_mean_squared_error did not improve from 40.76530\n",
            "42/42 [==============================] - 1s 27ms/step - loss: 1803.0031 - root_mean_squared_error: 42.4618 - val_loss: 1688.8662 - val_root_mean_squared_error: 41.0958\n",
            "Epoch 28/10000\n",
            "42/42 [==============================] - ETA: 0s - loss: 1782.7371 - root_mean_squared_error: 42.2225\n",
            "Epoch 28: val_root_mean_squared_error did not improve from 40.76530\n",
            "42/42 [==============================] - 1s 22ms/step - loss: 1782.7371 - root_mean_squared_error: 42.2225 - val_loss: 1662.4979 - val_root_mean_squared_error: 40.7737\n",
            "Epoch 29/10000\n",
            "40/42 [===========================>..] - ETA: 0s - loss: 1736.9633 - root_mean_squared_error: 41.6769\n",
            "Epoch 29: val_root_mean_squared_error improved from 40.76530 to 39.07539, saving model to /content/drive/My Drive/SOLModel.hdf5\n",
            "42/42 [==============================] - 1s 21ms/step - loss: 1695.7747 - root_mean_squared_error: 41.1798 - val_loss: 1526.8864 - val_root_mean_squared_error: 39.0754\n",
            "Epoch 30/10000\n",
            "40/42 [===========================>..] - ETA: 0s - loss: 1671.5403 - root_mean_squared_error: 40.8845\n",
            "Epoch 30: val_root_mean_squared_error improved from 39.07539 to 38.01825, saving model to /content/drive/My Drive/SOLModel.hdf5\n",
            "42/42 [==============================] - 1s 26ms/step - loss: 1670.0848 - root_mean_squared_error: 40.8667 - val_loss: 1445.3870 - val_root_mean_squared_error: 38.0182\n",
            "Epoch 31/10000\n",
            "42/42 [==============================] - ETA: 0s - loss: 1669.7540 - root_mean_squared_error: 40.8626\n",
            "Epoch 31: val_root_mean_squared_error improved from 38.01825 to 37.86670, saving model to /content/drive/My Drive/SOLModel.hdf5\n",
            "42/42 [==============================] - 1s 23ms/step - loss: 1669.7540 - root_mean_squared_error: 40.8626 - val_loss: 1433.8873 - val_root_mean_squared_error: 37.8667\n",
            "Epoch 32/10000\n",
            "39/42 [==========================>...] - ETA: 0s - loss: 1606.2845 - root_mean_squared_error: 40.0785\n",
            "Epoch 32: val_root_mean_squared_error did not improve from 37.86670\n",
            "42/42 [==============================] - 1s 23ms/step - loss: 1643.7163 - root_mean_squared_error: 40.5428 - val_loss: 1467.4185 - val_root_mean_squared_error: 38.3069\n",
            "Epoch 33/10000\n",
            "42/42 [==============================] - ETA: 0s - loss: 1544.9307 - root_mean_squared_error: 39.3056\n",
            "Epoch 33: val_root_mean_squared_error did not improve from 37.86670\n",
            "42/42 [==============================] - 1s 21ms/step - loss: 1544.9307 - root_mean_squared_error: 39.3056 - val_loss: 1449.6781 - val_root_mean_squared_error: 38.0746\n",
            "Epoch 34/10000\n",
            "42/42 [==============================] - ETA: 0s - loss: 1506.6565 - root_mean_squared_error: 38.8157\n",
            "Epoch 34: val_root_mean_squared_error did not improve from 37.86670\n",
            "42/42 [==============================] - 1s 24ms/step - loss: 1506.6565 - root_mean_squared_error: 38.8157 - val_loss: 2384.5249 - val_root_mean_squared_error: 48.8316\n",
            "Epoch 35/10000\n",
            "40/42 [===========================>..] - ETA: 0s - loss: 1569.7898 - root_mean_squared_error: 39.6206\n",
            "Epoch 35: val_root_mean_squared_error improved from 37.86670 to 35.67889, saving model to /content/drive/My Drive/SOLModel.hdf5\n",
            "42/42 [==============================] - 1s 23ms/step - loss: 1543.9315 - root_mean_squared_error: 39.2929 - val_loss: 1272.9834 - val_root_mean_squared_error: 35.6789\n",
            "Epoch 36/10000\n",
            "40/42 [===========================>..] - ETA: 0s - loss: 1442.6838 - root_mean_squared_error: 37.9827\n",
            "Epoch 36: val_root_mean_squared_error did not improve from 35.67889\n",
            "42/42 [==============================] - 1s 24ms/step - loss: 1434.8416 - root_mean_squared_error: 37.8793 - val_loss: 1428.2970 - val_root_mean_squared_error: 37.7928\n",
            "Epoch 37/10000\n",
            "40/42 [===========================>..] - ETA: 0s - loss: 1417.1072 - root_mean_squared_error: 37.6445\n",
            "Epoch 37: val_root_mean_squared_error did not improve from 35.67889\n",
            "42/42 [==============================] - 1s 22ms/step - loss: 1427.7172 - root_mean_squared_error: 37.7851 - val_loss: 1935.9138 - val_root_mean_squared_error: 43.9990\n",
            "Epoch 38/10000\n",
            "42/42 [==============================] - ETA: 0s - loss: 1394.9111 - root_mean_squared_error: 37.3485\n",
            "Epoch 38: val_root_mean_squared_error improved from 35.67889 to 34.96486, saving model to /content/drive/My Drive/SOLModel.hdf5\n",
            "42/42 [==============================] - 1s 22ms/step - loss: 1394.9111 - root_mean_squared_error: 37.3485 - val_loss: 1222.5415 - val_root_mean_squared_error: 34.9649\n",
            "Epoch 39/10000\n",
            "39/42 [==========================>...] - ETA: 0s - loss: 1341.7046 - root_mean_squared_error: 36.6293\n",
            "Epoch 39: val_root_mean_squared_error did not improve from 34.96486\n",
            "42/42 [==============================] - 1s 21ms/step - loss: 1302.8164 - root_mean_squared_error: 36.0945 - val_loss: 1263.3425 - val_root_mean_squared_error: 35.5435\n",
            "Epoch 40/10000\n",
            "42/42 [==============================] - ETA: 0s - loss: 1331.7842 - root_mean_squared_error: 36.4936\n",
            "Epoch 40: val_root_mean_squared_error improved from 34.96486 to 34.15318, saving model to /content/drive/My Drive/SOLModel.hdf5\n",
            "42/42 [==============================] - 1s 22ms/step - loss: 1331.7842 - root_mean_squared_error: 36.4936 - val_loss: 1166.4395 - val_root_mean_squared_error: 34.1532\n",
            "Epoch 41/10000\n",
            "40/42 [===========================>..] - ETA: 0s - loss: 1346.5924 - root_mean_squared_error: 36.6959\n",
            "Epoch 41: val_root_mean_squared_error improved from 34.15318 to 33.39302, saving model to /content/drive/My Drive/SOLModel.hdf5\n",
            "42/42 [==============================] - 1s 21ms/step - loss: 1349.9308 - root_mean_squared_error: 36.7414 - val_loss: 1115.0939 - val_root_mean_squared_error: 33.3930\n",
            "Epoch 42/10000\n",
            "42/42 [==============================] - ETA: 0s - loss: 1210.1484 - root_mean_squared_error: 34.7872\n",
            "Epoch 42: val_root_mean_squared_error improved from 33.39302 to 33.35849, saving model to /content/drive/My Drive/SOLModel.hdf5\n",
            "42/42 [==============================] - 1s 26ms/step - loss: 1210.1484 - root_mean_squared_error: 34.7872 - val_loss: 1112.7886 - val_root_mean_squared_error: 33.3585\n",
            "Epoch 43/10000\n",
            "39/42 [==========================>...] - ETA: 0s - loss: 1124.8479 - root_mean_squared_error: 33.5388\n",
            "Epoch 43: val_root_mean_squared_error did not improve from 33.35849\n",
            "42/42 [==============================] - 1s 22ms/step - loss: 1230.0428 - root_mean_squared_error: 35.0720 - val_loss: 1137.5055 - val_root_mean_squared_error: 33.7269\n",
            "Epoch 44/10000\n",
            "39/42 [==========================>...] - ETA: 0s - loss: 1167.5333 - root_mean_squared_error: 34.1692\n",
            "Epoch 44: val_root_mean_squared_error did not improve from 33.35849\n",
            "42/42 [==============================] - 1s 21ms/step - loss: 1228.5802 - root_mean_squared_error: 35.0511 - val_loss: 1757.3724 - val_root_mean_squared_error: 41.9210\n",
            "Epoch 45/10000\n",
            "41/42 [============================>.] - ETA: 0s - loss: 1230.9543 - root_mean_squared_error: 35.0850\n",
            "Epoch 45: val_root_mean_squared_error improved from 33.35849 to 32.52567, saving model to /content/drive/My Drive/SOLModel.hdf5\n",
            "42/42 [==============================] - 1s 24ms/step - loss: 1228.8773 - root_mean_squared_error: 35.0553 - val_loss: 1057.9194 - val_root_mean_squared_error: 32.5257\n",
            "Epoch 46/10000\n",
            "40/42 [===========================>..] - ETA: 0s - loss: 1161.4413 - root_mean_squared_error: 34.0799\n",
            "Epoch 46: val_root_mean_squared_error improved from 32.52567 to 30.90463, saving model to /content/drive/My Drive/SOLModel.hdf5\n",
            "42/42 [==============================] - 1s 23ms/step - loss: 1149.0853 - root_mean_squared_error: 33.8982 - val_loss: 955.0964 - val_root_mean_squared_error: 30.9046\n",
            "Epoch 47/10000\n",
            "39/42 [==========================>...] - ETA: 0s - loss: 1067.0918 - root_mean_squared_error: 32.6664\n",
            "Epoch 47: val_root_mean_squared_error did not improve from 30.90463\n",
            "42/42 [==============================] - 1s 21ms/step - loss: 1106.4650 - root_mean_squared_error: 33.2636 - val_loss: 1027.7461 - val_root_mean_squared_error: 32.0585\n",
            "Epoch 48/10000\n",
            "39/42 [==========================>...] - ETA: 0s - loss: 1088.1289 - root_mean_squared_error: 32.9868\n",
            "Epoch 48: val_root_mean_squared_error improved from 30.90463 to 30.48017, saving model to /content/drive/My Drive/SOLModel.hdf5\n",
            "42/42 [==============================] - 1s 25ms/step - loss: 1085.8290 - root_mean_squared_error: 32.9519 - val_loss: 929.0406 - val_root_mean_squared_error: 30.4802\n",
            "Epoch 49/10000\n",
            "41/42 [============================>.] - ETA: 0s - loss: 1055.4272 - root_mean_squared_error: 32.4873\n",
            "Epoch 49: val_root_mean_squared_error improved from 30.48017 to 30.42023, saving model to /content/drive/My Drive/SOLModel.hdf5\n",
            "42/42 [==============================] - 1s 26ms/step - loss: 1053.0835 - root_mean_squared_error: 32.4512 - val_loss: 925.3901 - val_root_mean_squared_error: 30.4202\n",
            "Epoch 50/10000\n",
            "42/42 [==============================] - ETA: 0s - loss: 1073.1201 - root_mean_squared_error: 32.7585\n",
            "Epoch 50: val_root_mean_squared_error did not improve from 30.42023\n",
            "42/42 [==============================] - 1s 22ms/step - loss: 1073.1201 - root_mean_squared_error: 32.7585 - val_loss: 1457.3502 - val_root_mean_squared_error: 38.1753\n",
            "Epoch 51/10000\n",
            "40/42 [===========================>..] - ETA: 0s - loss: 1032.5288 - root_mean_squared_error: 32.1330\n",
            "Epoch 51: val_root_mean_squared_error did not improve from 30.42023\n",
            "42/42 [==============================] - 1s 21ms/step - loss: 1040.0023 - root_mean_squared_error: 32.2491 - val_loss: 948.8126 - val_root_mean_squared_error: 30.8028\n",
            "Epoch 52/10000\n",
            "39/42 [==========================>...] - ETA: 0s - loss: 1027.4230 - root_mean_squared_error: 32.0534\n",
            "Epoch 52: val_root_mean_squared_error did not improve from 30.42023\n",
            "42/42 [==============================] - 1s 21ms/step - loss: 1027.6259 - root_mean_squared_error: 32.0566 - val_loss: 967.4071 - val_root_mean_squared_error: 31.1032\n",
            "Epoch 53/10000\n",
            "40/42 [===========================>..] - ETA: 0s - loss: 1084.2913 - root_mean_squared_error: 32.9286\n",
            "Epoch 53: val_root_mean_squared_error did not improve from 30.42023\n",
            "42/42 [==============================] - 1s 24ms/step - loss: 1064.4170 - root_mean_squared_error: 32.6254 - val_loss: 1339.2639 - val_root_mean_squared_error: 36.5960\n",
            "Epoch 54/10000\n",
            "42/42 [==============================] - ETA: 0s - loss: 947.1745 - root_mean_squared_error: 30.7762\n",
            "Epoch 54: val_root_mean_squared_error did not improve from 30.42023\n",
            "42/42 [==============================] - 1s 22ms/step - loss: 947.1745 - root_mean_squared_error: 30.7762 - val_loss: 946.1144 - val_root_mean_squared_error: 30.7590\n",
            "Epoch 55/10000\n",
            "40/42 [===========================>..] - ETA: 0s - loss: 982.5724 - root_mean_squared_error: 31.3460\n",
            "Epoch 55: val_root_mean_squared_error improved from 30.42023 to 30.36164, saving model to /content/drive/My Drive/SOLModel.hdf5\n",
            "42/42 [==============================] - 1s 25ms/step - loss: 992.2957 - root_mean_squared_error: 31.5007 - val_loss: 921.8292 - val_root_mean_squared_error: 30.3616\n",
            "Epoch 56/10000\n",
            "41/42 [============================>.] - ETA: 0s - loss: 1008.3333 - root_mean_squared_error: 31.7543\n",
            "Epoch 56: val_root_mean_squared_error did not improve from 30.36164\n",
            "42/42 [==============================] - 1s 24ms/step - loss: 1012.1806 - root_mean_squared_error: 31.8148 - val_loss: 1648.3885 - val_root_mean_squared_error: 40.6004\n",
            "Epoch 57/10000\n",
            "41/42 [============================>.] - ETA: 0s - loss: 973.6082 - root_mean_squared_error: 31.2027\n",
            "Epoch 57: val_root_mean_squared_error improved from 30.36164 to 28.11221, saving model to /content/drive/My Drive/SOLModel.hdf5\n",
            "42/42 [==============================] - 1s 25ms/step - loss: 971.6489 - root_mean_squared_error: 31.1713 - val_loss: 790.2961 - val_root_mean_squared_error: 28.1122\n",
            "Epoch 58/10000\n",
            "39/42 [==========================>...] - ETA: 0s - loss: 900.7946 - root_mean_squared_error: 30.0132\n",
            "Epoch 58: val_root_mean_squared_error did not improve from 28.11221\n",
            "42/42 [==============================] - 1s 24ms/step - loss: 898.4274 - root_mean_squared_error: 29.9738 - val_loss: 810.7969 - val_root_mean_squared_error: 28.4745\n",
            "Epoch 59/10000\n",
            " 1/42 [..............................] - ETA: 0s - loss: 576.9874 - root_mean_squared_error: 24.0206"
          ]
        }
      ],
      "source": [
        "model = tf.keras.Sequential([\n",
        "                             tf.keras.layers.Dense(512, activation='relu', input_shape=(1766,)),\n",
        "                             tf.keras.layers.Dense(512, activation='relu'),\n",
        "                             #tf.keras.layers.Dense(1762, activation='relu'),\n",
        "                             tf.keras.layers.Dense(output_nodes, activation ='relu')])\n",
        "\n",
        "model.compile(optimizer=tf.keras.optimizers.Adadelta(learning_rate = 0.5), loss=tf.keras.losses.MeanSquaredError(), metrics=[tf.keras.metrics.RootMeanSquaredError()])\n",
        "hist = model.fit(X, Y, epochs= 10000, callbacks=[checkpoint],validation_data=(X, Y), batch_size= None)\n",
        "model.evaluate(X_test, Y_test)\n",
        " \n",
        "# Error Graph\n",
        "\n",
        "plt.plot(hist.history['root_mean_squared_error'])\n",
        "plt.plot(hist.history['val_root_mean_squared_error'])\n",
        "plt.title('Model RMSE')\n",
        "plt.ylabel('Loss')\n",
        "plt.xlabel('Epoch')\n",
        "plt.legend(['Train', 'Val'], loc='upper right')\n",
        "plt.show()\n",
        " \n",
        "\n",
        "train_acc = min(hist.history['root_mean_squared_error'])\n",
        "val_acc = min(hist.history['val_root_mean_squared_error'])\n",
        "train_loss = min(hist.history['loss'])\n",
        "val_loss = min(hist.history['val_loss'])\n",
        "print('Training RMSE is')\n",
        "print(train_acc)\n",
        "print('Validation RMSE is')\n",
        "print(val_acc)\n",
        "print('Training loss is')\n",
        "print(train_loss)\n",
        "print('Validation loss is')\n",
        "print(val_loss)\n",
        "\n"
      ]
    },
    {
      "cell_type": "code",
      "source": [
        "plt.plot(hist.history['root_mean_squared_error'])\n",
        "plt.plot(hist.history['val_root_mean_squared_error'])\n",
        "plt.title('Model RMSE')\n",
        "plt.ylabel('RMSE')\n",
        "plt.xlabel('Epoch')\n",
        "plt.legend(['Train', 'Val'], loc='upper right')\n",
        "plt.show()\n",
        "plt.savefig('Training.svg', dpi = 600)\n",
        "\n"
      ],
      "metadata": {
        "colab": {
          "base_uri": "https://localhost:8080/",
          "height": 312
        },
        "id": "dEU0IEy1RelO",
        "outputId": "5045a18a-8f54-4958-dd64-19a11afc60cd"
      },
      "execution_count": null,
      "outputs": [
        {
          "output_type": "display_data",
          "data": {
            "text/plain": [
              "<Figure size 432x288 with 1 Axes>"
            ],
            "image/png": "[encoded data removed]"
          },
          "metadata": {
            "needs_background": "light"
          }
        },
        {
          "output_type": "display_data",
          "data": {
            "text/plain": [
              "<Figure size 432x288 with 0 Axes>"
            ]
          },
          "metadata": {}
        }
      ]
    },
    {
      "cell_type": "code",
      "source": [
        "from sklearn.metrics import r2_score\n",
        "true_value = Y\n",
        "predicted_value = model.predict(X)\n",
        "\n",
        "plt.figure(figsize=(15,15))\n",
        "plt.scatter(true_value, predicted_value, c='maroon')\n",
        "plt.yscale('linear')\n",
        "plt.xscale('linear')\n",
        "\n",
        "p1 = max(max(predicted_value), max(true_value))\n",
        "p2 = min(min(predicted_value), min(true_value))\n",
        "plt.plot([p1, p2], [p1, p2], 'blue')\n",
        "plt.xlabel('True Values', fontsize=15)\n",
        "plt.ylabel('Predictions', fontsize=15)\n",
        "plt.axis('equal')\n",
        "plt.title('Predicted vs Actual')\n",
        "plt.annotate(\"r-squared = {:.3f}\".format(r2_score(true_value, predicted_value)), (1,650), )\n",
        "plt.xticks( range(0,800,50) )\n",
        "plt.yticks( range(0,800,50) )\n",
        "#plt.show()\n",
        "plt.savefig('P_A.svg', dpi = 1200)"
      ],
      "metadata": {
        "colab": {
          "base_uri": "https://localhost:8080/",
          "height": 898
        },
        "id": "3K6yNNncNdqP",
        "outputId": "f9bea044-38b7-4970-d963-c914115b798f"
      },
      "execution_count": null,
      "outputs": [
        {
          "output_type": "display_data",
          "data": {
            "text/plain": [
              "<Figure size 1080x1080 with 1 Axes>"
            ],
            "image/png": "[encoded data removed]"
          },
          "metadata": {
            "needs_background": "light"
          }
        }
      ]
    },
    {
      "cell_type": "code",
      "execution_count": null,
      "metadata": {
        "id": "j7h6tGeSEZ3S",
        "cellView": "form"
      },
      "outputs": [],
      "source": [
        "#@title Insert PubChem Fingerprint of Drug and Carrier (Oil, Surfactant, Cosurfactant)\n",
        "!pip install pubchempy\n",
        "import tensorflow as tf\n",
        "import pandas as pd \n",
        "import numpy as np \n",
        "import io\n",
        "from tensorflow import keras\n",
        "import pubchempy as pcp\n",
        "from sklearn.preprocessing import OneHotEncoder\n",
        "from keras.models import load_model\n",
        "import time as tm\n",
        "from google_drive_downloader import GoogleDriveDownloader as gdd\n",
        "\n",
        "gdd.download_file_from_google_drive(file_id='1V3huUfnkHZ0ijJbLtQX11WBGW_xfApjk',\n",
        "                                   dest_path='/content/sample_data/Sol_ME.hdf5',\n",
        "                                   unzip=False)\n",
        "#Load Model\n",
        "model = load_model('/content/sample_data/Sol_ME.hdf5', compile= True)\n",
        "\n",
        "\n",
        "Drug_CID =  24872560#@param {type:\"number\"}\n",
        "Excipient_CID =  3314#@param {type:\"number\"}\n",
        "\n",
        "#LOGP of DRUG AND CARRIER\n",
        "logp_D = pcp.Compound.from_cid(Drug_CID)\n",
        "logp_D = logp_D.xlogp\n",
        "logp_D = float(logp_D)/100\n",
        "\n",
        "logp_C = pcp.Compound.from_cid(Excipient_CID)\n",
        "logp_C = logp_C.xlogp\n",
        "logp_C = float(logp_C)/100\n",
        "\n",
        "#Mol. Wt of Drug and Excipeint\n",
        "Molwt_of_Drug = pcp.Compound.from_cid(Drug_CID)\n",
        "Molwt_of_Drug = Molwt_of_Drug.molecular_weight\n",
        "Molwt_of_Drug = float(Molwt_of_Drug)/1000\n",
        "\n",
        "Molwt_of_Excipient = pcp.Compound.from_cid(Drug_CID)\n",
        "Molwt_of_Excipient = Molwt_of_Excipient.molecular_weight\n",
        "Molwt_of_Excipient = float(Molwt_of_Excipient)/1000\n",
        "\n",
        "#FINGERPRINT OF DRUG AND CARRIER\n",
        "CID_D = pcp.Compound.from_cid(Drug_CID)\n",
        "CID_E = pcp.Compound.from_cid(Excipient_CID)\n",
        "\n",
        "FPD = CID_D.cactvs_fingerprint\n",
        "FPE = CID_E.cactvs_fingerprint\n",
        "\n",
        "List1 = [Molwt_of_Drug, Molwt_of_Excipient, logp_D, logp_C]\n",
        "\n",
        "List2 = list(FPD)\n",
        "List3 = list(FPE)\n",
        "List = List1 + List2 + List3\n",
        "\n",
        " \n",
        "import pandas as pd\n",
        "t = pd.DataFrame(np.array(List).reshape(-1,len(List)))\n",
        " \n",
        "#@title RUN FOR PREDICTION\n",
        " \n",
        " \n",
        "dataset1 = t.values\n",
        "t.dtype = int\n",
        "X_Predict = (dataset1[:,0:1766].astype(float))\n",
        "#print(X_Predict)\n",
        "#print(X_Predict.shape)\n",
        "#print(X_Predict.dtype)\n",
        " \n",
        "Y_prediction = model.predict(X_Predict)\n",
        " \n",
        "print(Y_prediction, \"mg/ml\")"
      ]
    },
    {
      "cell_type": "code",
      "execution_count": null,
      "metadata": {
        "cellView": "form",
        "id": "_h9o-CpSkx_R"
      },
      "outputs": [],
      "source": [
        "#@title Insert PubChem Fingerprint of Drug and Carrier (Oil, Surfactant, Cosurfactant)\n",
        "!pip install pubchempy\n",
        "import tensorflow as tf\n",
        "import pandas as pd \n",
        "import numpy as np \n",
        "import io\n",
        "from tensorflow import keras\n",
        "import pubchempy as pcp\n",
        "from sklearn.preprocessing import OneHotEncoder\n",
        "from keras.models import load_model\n",
        "import time as tm\n",
        "from google_drive_downloader import GoogleDriveDownloader as gdd\n",
        "\n",
        "gdd.download_file_from_google_drive(file_id='1V3huUfnkHZ0ijJbLtQX11WBGW_xfApjk',\n",
        "                                   dest_path='/content/sample_data/Sol_ME.hdf5',\n",
        "                                   unzip=False)\n",
        "#Load Model\n",
        "model = load_model('/content/sample_data/Sol_ME.hdf5', compile= True)\n",
        "\n",
        "\n",
        "Drug_CID =  24872560#@param {type:\"number\"}\n",
        "Excipient_CID =  3314#@param {type:\"number\"}\n",
        "LogP_of_Drug =  11.3#@param {type:\"number\"}\n",
        "LogP_of_Excipient =  2#@param {type:\"number\"}\n",
        "MolWt_of_Drug =  11.3#@param {type:\"number\"}\n",
        "MolWt_of_Excipient =  2#@param {type:\"number\"}\n",
        "\n",
        "#LOGP of DRUG AND CARRIER\n",
        "\n",
        "logp_D = LogP_of_Drug/100\n",
        "\n",
        "logp_C = LogP_of_Excipient/100\n",
        "\n",
        "#Mol.Wt of Drug and Carrier\n",
        "MolWt_of_Drug = MolWt_of_Drug/1000\n",
        "MolWt_of_Excipient =  MolWt_of_Excipient/1000\n",
        "\n",
        "#FINGERPRINT OF DRUG AND CARRIER\n",
        "CID_D = pcp.Compound.from_cid(Drug_CID)\n",
        "CID_E = pcp.Compound.from_cid(Excipient_CID)\n",
        "\n",
        "FPD = CID_D.cactvs_fingerprint\n",
        "FPE = CID_E.cactvs_fingerprint\n",
        "\n",
        "List1 = [MolWt_of_Drug, MolWt_of_Excipient, logp_D, logp_C]\n",
        "\n",
        "List2 = list(FPD)\n",
        "List3 = list(FPE)\n",
        "List = List1 + List2 + List3\n",
        "\n",
        " \n",
        "import pandas as pd\n",
        "t = pd.DataFrame(np.array(List).reshape(-1,len(List)))\n",
        " \n",
        "#@title RUN FOR PREDICTION\n",
        " \n",
        " \n",
        "dataset1 = t.values\n",
        "t.dtype = int\n",
        "X_Predict = (dataset1[:,0:1766].astype(float))\n",
        "#print(X_Predict)\n",
        "#print(X_Predict.shape)\n",
        "#print(X_Predict.dtype)\n",
        " \n",
        "Y_prediction = model.predict(X_Predict)\n",
        " \n",
        "print(Y_prediction, \"mg/ml\")"
      ]
    }
  ],
  "metadata": {
    "colab": {
      "name": "Sol_ME.ipynb",
      "provenance": [],
      "authorship_tag": "ABX9TyM1mx9Rb/HQBOiBZeHWd35x",
      "include_colab_link": true
    },
    "kernelspec": {
      "display_name": "Python 3",
      "name": "python3"
    },
    "language_info": {
      "name": "python"
    }
  },
  "nbformat": 4,
  "nbformat_minor": 0
}