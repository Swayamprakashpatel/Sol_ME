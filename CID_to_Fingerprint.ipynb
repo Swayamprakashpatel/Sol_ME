{
  "nbformat": 4,
  "nbformat_minor": 0,
  "metadata": {
    "colab": {
      "name": "CID_to_Fingerprint.ipynb",
      "provenance": [],
      "collapsed_sections": [],
      "mount_file_id": "1nFuh8F_yuOufIUUqaID3iB1IuDWr8lan",
      "authorship_tag": "ABX9TyPh8dZh8oLqzYADnnqb2dZe",
      "include_colab_link": true
    },
    "kernelspec": {
      "name": "python3",
      "display_name": "Python 3"
    },
    "language_info": {
      "name": "python"
    },
    "accelerator": "TPU"
  },
  "cells": [
    {
      "cell_type": "markdown",
      "metadata": {
        "id": "view-in-github",
        "colab_type": "text"
      },
      "source": [
        "<a href=\"https://colab.research.google.com/github/Swayamprakashpatel/Sol_ME/blob/main/CID_to_Fingerprint.ipynb\" target=\"_parent\"><img src=\"https://colab.research.google.com/assets/colab-badge.svg\" alt=\"Open In Colab\"/></a>"
      ]
    },
    {
      "cell_type": "markdown",
      "metadata": {
        "id": "YSA04DNsVlKu"
      },
      "source": [
        "**PUBCHEM CID TO FINGERPRINT GENERATION**"
      ]
    },
    {
      "cell_type": "code",
      "metadata": {
        "colab": {
          "base_uri": "https://localhost:8080/"
        },
        "id": "joRln9Xkka3M",
        "outputId": "2689e4ad-ecab-464e-ebaa-9cdd46cec7df"
      },
      "source": [
        "import tensorflow as tf\n",
        "import numpy as np\n",
        "import pandas as pd\n",
        "import pandas_datareader as web\n",
        "!pip install pubchempy\n",
        "import pubchempy as pcp\n",
        "from sklearn.preprocessing import MinMaxScaler\n",
        "from keras.models import Sequential\n",
        "from keras.layers import Dense\n",
        "from google.colab import files\n",
        "import time as tm"
      ],
      "execution_count": null,
      "outputs": [
        {
          "output_type": "stream",
          "name": "stdout",
          "text": [
            "Looking in indexes: https://pypi.org/simple, https://us-python.pkg.dev/colab-wheels/public/simple/\n",
            "Collecting pubchempy\n",
            "  Downloading PubChemPy-1.0.4.tar.gz (29 kB)\n",
            "Building wheels for collected packages: pubchempy\n",
            "  Building wheel for pubchempy (setup.py) ... \u001b[?25l\u001b[?25hdone\n",
            "  Created wheel for pubchempy: filename=PubChemPy-1.0.4-py3-none-any.whl size=13834 sha256=d6efdca86b84e58bcf3cd1a3aef80d315c14805162dd3a7446da4aaac0129eb2\n",
            "  Stored in directory: /root/.cache/pip/wheels/7c/3d/8c/8192697412e9899dc55bbbb08bbc1197bef333caaa2a71c448\n",
            "Successfully built pubchempy\n",
            "Installing collected packages: pubchempy\n",
            "Successfully installed pubchempy-1.0.4\n"
          ]
        }
      ]
    },
    {
      "cell_type": "code",
      "metadata": {
        "id": "vzA5L477k9iK",
        "colab": {
          "base_uri": "https://localhost:8080/"
        },
        "outputId": "f69d064a-0789-408c-9180-e069b61b088f"
      },
      "source": [
        "#FOR DRUGS\n",
        "\n",
        "df1 = pd.read_csv('/content/Solubility data.csv')\n",
        "#df1 = df.iloc[0:775,:]\n",
        "#print(df1)\n",
        "\n",
        "cidvals = df1['CARRIER']\n",
        "componentFingerprint = []\n",
        "for cid in cidvals:\n",
        "  c = pcp.Compound.from_cid(cid)\n",
        "  componentFingerprint.append(c.cactvs_fingerprint)\n",
        "  tm.sleep(0.1)\n",
        "\n",
        "df2 = df1.assign(fp=componentFingerprint)\n",
        "i = 1\n",
        "for  componentFingerprint in c.cactvs_fingerprint:\n",
        "    df2['fp'] = df2['fp'].astype(str)\n",
        "    df2['fp'+str (i)] = df2['fp'].str[i-1:i]\n",
        "    i = i+ 1\n",
        "#print(componentFingerprint)\n",
        "#print(df2)\n",
        "\n",
        "df2.to_csv('Carrier.csv')"
      ],
      "execution_count": null,
      "outputs": [
        {
          "output_type": "stream",
          "name": "stderr",
          "text": [
            "/usr/local/lib/python3.7/dist-packages/ipykernel_launcher.py:18: PerformanceWarning: DataFrame is highly fragmented.  This is usually the result of calling `frame.insert` many times, which has poor performance.  Consider joining all columns at once using pd.concat(axis=1) instead.  To get a de-fragmented frame, use `newframe = frame.copy()`\n"
          ]
        }
      ]
    },
    {
      "cell_type": "code",
      "source": [
        "c = pcp.Compound.from_cid(3033877)\n",
        "c.cactvs_fingerprint"
      ],
      "metadata": {
        "colab": {
          "base_uri": "https://localhost:8080/",
          "height": 105
        },
        "id": "prBLu0ia3dwU",
        "outputId": "b42daf78-2579-4175-e644-9d25922b591a"
      },
      "execution_count": null,
      "outputs": [
        {
          "output_type": "execute_result",
          "data": {
            "text/plain": [
              "'11100000011100000011100000000000000000000000000000000000000000000000000000000000000000000000000000000000000000000000000000000000000000000000000000000000000000000000000000000000000000000000000000000000000000000000000000000000000000000000000000000000000000000000000000000000000000000001101000000000000000000000100000000000000000000000100000010100101000001000000000000010000000100000100000000000000000000000011000000000000010000000000000000000100100000000100000000000000000000000000000000000000000000000000000000000000000000000000000000001000000000000000000000000000000010001000000010010000000000000000000000000000000100100000000000000000001010000000000000000000000110000000000000001100010001100100010100000100000000000000000000000000000000000000000000000000000000000000000000000000000000000000000000000000000000000000000000000000000000000000000000000000000000000000000000000000000000'"
            ],
            "application/vnd.google.colaboratory.intrinsic+json": {
              "type": "string"
            }
          },
          "metadata": {},
          "execution_count": 2
        }
      ]
    },
    {
      "cell_type": "code",
      "metadata": {
        "id": "SDRu3FLHRygO"
      },
      "source": [
        "#FOR EXCIPIENT\n",
        "\n",
        "df1 = pd.read_excel('/content/Excipient.xlsx')\n",
        "cidvals = df1['CID']\n",
        "componentFingerprint = []\n",
        "for cid in cidvals:\n",
        "  c = pcp.Compound.from_cid(cid)\n",
        "  componentFingerprint.append(c.cactvs_fingerprint)\n",
        "  tm.sleep(0.1)\n",
        "\n",
        "df2 = df1.assign(fp=componentFingerprint)\n",
        "i = 1\n",
        "for  componentFingerprint in c.cactvs_fingerprint:\n",
        "    df2['fp'] = df2['fp'].astype(str)\n",
        "    df2['fp'+str (i)] = df2['fp'].str[i-1:i]\n",
        "    i = i+ 1\n",
        "#print(componentFingerprint)\n",
        "#print(df2)\n",
        "df2.to_csv('FP_Excipient.csv')"
      ],
      "execution_count": null,
      "outputs": []
    }
  ]
}