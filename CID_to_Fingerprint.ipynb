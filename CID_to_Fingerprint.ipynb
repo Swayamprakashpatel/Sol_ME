{
  "nbformat": 4,
  "nbformat_minor": 0,
  "metadata": {
    "colab": {
      "name": "CID_to_Fingerprint.ipynb",
      "provenance": [],
      "gpuType": "V28",
      "mount_file_id": "1nFuh8F_yuOufIUUqaID3iB1IuDWr8lan",
      "authorship_tag": "ABX9TyMa97XmbMGrjYWR7QkJJGZO",
      "include_colab_link": true
    },
    "kernelspec": {
      "name": "python3",
      "display_name": "Python 3"
    },
    "language_info": {
      "name": "python"
    },
    "accelerator": "TPU"
  },
  "cells": [
    {
      "cell_type": "markdown",
      "metadata": {
        "id": "view-in-github",
        "colab_type": "text"
      },
      "source": [
        "<a href=\"https://colab.research.google.com/github/Swayamprakashpatel/Sol_ME/blob/main/CID_to_Fingerprint.ipynb\" target=\"_parent\"><img src=\"https://colab.research.google.com/assets/colab-badge.svg\" alt=\"Open In Colab\"/></a>"
      ]
    },
    {
      "cell_type": "markdown",
      "metadata": {
        "id": "YSA04DNsVlKu"
      },
      "source": [
        "**PUBCHEM CID TO FINGERPRINT GENERATION**"
      ]
    },
    {
      "cell_type": "code",
      "metadata": {
        "id": "joRln9Xkka3M",
        "outputId": "eb668653-53ae-4091-f11c-09c0203c8734",
        "colab": {
          "base_uri": "https://localhost:8080/"
        }
      },
      "source": [
        "import tensorflow as tf\n",
        "import numpy as np\n",
        "import pandas as pd\n",
        "!pip install pubchempy\n",
        "import pubchempy as pcp\n",
        "from sklearn.preprocessing import MinMaxScaler\n",
        "from keras.models import Sequential\n",
        "from keras.layers import Dense\n",
        "from google.colab import files\n",
        "import time as tm"
      ],
      "execution_count": 4,
      "outputs": [
        {
          "output_type": "stream",
          "name": "stdout",
          "text": [
            "Collecting pubchempy\n",
            "  Downloading PubChemPy-1.0.4.tar.gz (29 kB)\n",
            "  Preparing metadata (setup.py) ... \u001b[?25l\u001b[?25hdone\n",
            "Building wheels for collected packages: pubchempy\n",
            "  Building wheel for pubchempy (setup.py) ... \u001b[?25l\u001b[?25hdone\n",
            "  Created wheel for pubchempy: filename=PubChemPy-1.0.4-py3-none-any.whl size=13820 sha256=6d6cb7896450d88ce03e93b7ef79312bc36a213760b3867acbd2792932f24d82\n",
            "  Stored in directory: /root/.cache/pip/wheels/90/7c/45/18a0671e3c3316966ef7ed9ad2b3f3300a7e41d3421a44e799\n",
            "Successfully built pubchempy\n",
            "Installing collected packages: pubchempy\n",
            "Successfully installed pubchempy-1.0.4\n"
          ]
        }
      ]
    },
    {
      "cell_type": "code",
      "source": [
        "#Just Example\n",
        "c = pcp.Compound.from_cid(3033877)\n",
        "c.cactvs_fingerprint"
      ],
      "metadata": {
        "id": "prBLu0ia3dwU"
      },
      "execution_count": null,
      "outputs": []
    },
    {
      "cell_type": "code",
      "metadata": {
        "id": "vzA5L477k9iK"
      },
      "source": [
        "#FOR DRUGS\n",
        "\n",
        "df1 = pd.read_csv('/content/Drug.csv')\n",
        "#df1 = df.iloc[0:775,:]\n",
        "#print(df1)\n",
        "\n",
        "cidvals = df1['CID']\n",
        "componentFingerprint = []\n",
        "for cid in cidvals:\n",
        "  c = pcp.Compound.from_cid(cid)\n",
        "  componentFingerprint.append(c.cactvs_fingerprint)\n",
        "  tm.sleep(0.1)\n",
        "\n",
        "df2 = df1.assign(fp=componentFingerprint)\n",
        "i = 1\n",
        "for  componentFingerprint in c.cactvs_fingerprint:\n",
        "    df2['fp'] = df2['fp'].astype(str)\n",
        "    df2['fp'+str (i)] = df2['fp'].str[i-1:i]\n",
        "    i = i+ 1\n",
        "#print(componentFingerprint)\n",
        "#print(df2)\n",
        "\n",
        "df2.to_csv('Drug.csv')"
      ],
      "execution_count": null,
      "outputs": []
    },
    {
      "cell_type": "code",
      "metadata": {
        "id": "SDRu3FLHRygO"
      },
      "source": [
        "#FOR EXCIPIENT\n",
        "\n",
        "df1 = pd.read_excel('/content/Excipient.xlsx')\n",
        "cidvals = df1['CID']\n",
        "componentFingerprint = []\n",
        "for cid in cidvals:\n",
        "  c = pcp.Compound.from_cid(cid)\n",
        "  componentFingerprint.append(c.cactvs_fingerprint)\n",
        "  tm.sleep(0.1)\n",
        "\n",
        "df2 = df1.assign(fp=componentFingerprint)\n",
        "i = 1\n",
        "for  componentFingerprint in c.cactvs_fingerprint:\n",
        "    df2['fp'] = df2['fp'].astype(str)\n",
        "    df2['fp'+str (i)] = df2['fp'].str[i-1:i]\n",
        "    i = i+ 1\n",
        "#print(componentFingerprint)\n",
        "#print(df2)\n",
        "df2.to_csv('FP_Excipient.csv')"
      ],
      "execution_count": null,
      "outputs": []
    },
    {
      "cell_type": "markdown",
      "source": [
        "**CID TO SMILE**"
      ],
      "metadata": {
        "id": "-M2VerjxYbpl"
      }
    },
    {
      "cell_type": "code",
      "source": [
        "import pandas as pd\n",
        "import pubchempy as pcp\n",
        "import time as tm\n",
        "\n",
        "# Load the GNN.csv file\n",
        "df = pd.read_csv('/content/GNN.csv')\n",
        "\n",
        "# Lists to store SMILES for drugs and solvents\n",
        "drug_smiles = []\n",
        "solvent_smiles = []\n",
        "\n",
        "# Convert drug CIDs to SMILES\n",
        "for drug_cid in df['drug_cid']:\n",
        "    try:\n",
        "        drug = pcp.Compound.from_cid(drug_cid)\n",
        "        drug_smiles.append(drug.canonical_smiles)\n",
        "    except:\n",
        "        drug_smiles.append(None)  # Append None if conversion fails\n",
        "    tm.sleep(0.1)  # To avoid hitting API limits\n",
        "\n",
        "# Convert solvent CIDs to SMILES\n",
        "for solvent_cid in df['solvent_cid']:\n",
        "    try:\n",
        "        solvent = pcp.Compound.from_cid(solvent_cid)\n",
        "        solvent_smiles.append(solvent.canonical_smiles)\n",
        "    except:\n",
        "        solvent_smiles.append(None)  # Append None if conversion fails\n",
        "    tm.sleep(0.1)\n",
        "\n",
        "# Create a new DataFrame with the required columns\n",
        "df_result = pd.DataFrame({\n",
        "    'Drug_Smile': drug_smiles,\n",
        "    'Solvent_Smile': solvent_smiles,\n",
        "    'Solubility': df['solubility']\n",
        "})\n",
        "\n",
        "# Save the result to a new CSV file\n",
        "df_result.to_csv('GNN_Smiles.csv', index=False)\n",
        "\n",
        "# Display the final DataFrame\n",
        "print(df_result)\n"
      ],
      "metadata": {
        "id": "iWbFcy_hYX7z",
        "outputId": "d6d28052-a3fb-4513-e401-75139872ce0c",
        "colab": {
          "base_uri": "https://localhost:8080/"
        }
      },
      "execution_count": 5,
      "outputs": [
        {
          "output_type": "stream",
          "name": "stdout",
          "text": [
            "                                     Drug_Smile  \\\n",
            "0     C1C(OC2=CC(=CC(=C2C1=O)O)O)C3=CC=C(C=C3)O   \n",
            "1     C1C(OC2=CC(=CC(=C2C1=O)O)O)C3=CC=C(C=C3)O   \n",
            "2     C1C(OC2=CC(=CC(=C2C1=O)O)O)C3=CC=C(C=C3)O   \n",
            "3     C1C(OC2=CC(=CC(=C2C1=O)O)O)C3=CC=C(C=C3)O   \n",
            "4     C1C(OC2=CC(=CC(=C2C1=O)O)O)C3=CC=C(C=C3)O   \n",
            "...                                         ...   \n",
            "1374  C1NC2=CC(=C(C=C2S(=O)(=O)N1)S(=O)(=O)N)Cl   \n",
            "1375  C1NC2=CC(=C(C=C2S(=O)(=O)N1)S(=O)(=O)N)Cl   \n",
            "1376  C1NC2=CC(=C(C=C2S(=O)(=O)N1)S(=O)(=O)N)Cl   \n",
            "1377  C1NC2=CC(=C(C=C2S(=O)(=O)N1)S(=O)(=O)N)Cl   \n",
            "1378  C1NC2=CC(=C(C=C2S(=O)(=O)N1)S(=O)(=O)N)Cl   \n",
            "\n",
            "                                          Solvent_Smile  Solubility  \n",
            "0     C1=CC=C(C=C1)CC(C(=O)NC(CCCCN)C(=O)N)NC(=O)C(C...        4.86  \n",
            "1                       CCCCCCCCC=CCCCCCCCC(=O)OCC(CO)O       15.57  \n",
            "2                      CCCCCC=CCC=CCCCCCCCC(=O)OCC(CO)O       27.58  \n",
            "3                                         CCCCC(CCCO)Cl       17.84  \n",
            "4                                  CCCCCCCC(=O)OCC(CO)O       50.95  \n",
            "...                                                 ...         ...  \n",
            "1374                                             C(CO)O       70.00  \n",
            "1375                                   C1CO1.C(C(CO)O)O       40.00  \n",
            "1376                         CCCCCCCCC=CCCCCCCCC(=O)OCC       10.00  \n",
            "1377                           CCCCCCCCC=CCCCCCCCC(=O)O       10.00  \n",
            "1378             CC=CC1=CC=CC=C1.COC1=C(C=CC(=C1)CC=C)O       30.00  \n",
            "\n",
            "[1379 rows x 3 columns]\n"
          ]
        }
      ]
    }
  ]
}