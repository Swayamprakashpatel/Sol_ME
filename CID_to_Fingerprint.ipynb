{
  "nbformat": 4,
  "nbformat_minor": 0,
  "metadata": {
    "colab": {
      "name": "CID_to_Fingerprint.ipynb",
      "provenance": [],
      "mount_file_id": "1nFuh8F_yuOufIUUqaID3iB1IuDWr8lan",
      "authorship_tag": "ABX9TyPaclAdMxH4k4QFBN95KFyK",
      "include_colab_link": true
    },
    "kernelspec": {
      "name": "python3",
      "display_name": "Python 3"
    },
    "language_info": {
      "name": "python"
    },
    "accelerator": "TPU"
  },
  "cells": [
    {
      "cell_type": "markdown",
      "metadata": {
        "id": "view-in-github",
        "colab_type": "text"
      },
      "source": [
        "<a href=\"https://colab.research.google.com/github/Swayamprakashpatel/Sol_ME/blob/main/CID_to_Fingerprint.ipynb\" target=\"_parent\"><img src=\"https://colab.research.google.com/assets/colab-badge.svg\" alt=\"Open In Colab\"/></a>"
      ]
    },
    {
      "cell_type": "markdown",
      "metadata": {
        "id": "YSA04DNsVlKu"
      },
      "source": [
        "**PUBCHEM CID TO FINGERPRINT GENERATION**"
      ]
    },
    {
      "cell_type": "code",
      "metadata": {
        "id": "joRln9Xkka3M"
      },
      "source": [
        "import tensorflow as tf\n",
        "import numpy as np\n",
        "import pandas as pd\n",
        "import pandas_datareader as web\n",
        "!pip install pubchempy\n",
        "import pubchempy as pcp\n",
        "from sklearn.preprocessing import MinMaxScaler\n",
        "from keras.models import Sequential\n",
        "from keras.layers import Dense\n",
        "from google.colab import files\n",
        "import time as tm"
      ],
      "execution_count": null,
      "outputs": []
    },
    {
      "cell_type": "code",
      "source": [
        "#Just Example\n",
        "c = pcp.Compound.from_cid(3033877)\n",
        "c.cactvs_fingerprint"
      ],
      "metadata": {
        "id": "prBLu0ia3dwU"
      },
      "execution_count": null,
      "outputs": []
    },
    {
      "cell_type": "code",
      "metadata": {
        "id": "vzA5L477k9iK"
      },
      "source": [
        "#FOR DRUGS\n",
        "\n",
        "df1 = pd.read_csv('/content/Drug.csv')\n",
        "#df1 = df.iloc[0:775,:]\n",
        "#print(df1)\n",
        "\n",
        "cidvals = df1['CID']\n",
        "componentFingerprint = []\n",
        "for cid in cidvals:\n",
        "  c = pcp.Compound.from_cid(cid)\n",
        "  componentFingerprint.append(c.cactvs_fingerprint)\n",
        "  tm.sleep(0.1)\n",
        "\n",
        "df2 = df1.assign(fp=componentFingerprint)\n",
        "i = 1\n",
        "for  componentFingerprint in c.cactvs_fingerprint:\n",
        "    df2['fp'] = df2['fp'].astype(str)\n",
        "    df2['fp'+str (i)] = df2['fp'].str[i-1:i]\n",
        "    i = i+ 1\n",
        "#print(componentFingerprint)\n",
        "#print(df2)\n",
        "\n",
        "df2.to_csv('Drug.csv')"
      ],
      "execution_count": null,
      "outputs": []
    },
    {
      "cell_type": "code",
      "metadata": {
        "id": "SDRu3FLHRygO"
      },
      "source": [
        "#FOR EXCIPIENT\n",
        "\n",
        "df1 = pd.read_excel('/content/Excipient.xlsx')\n",
        "cidvals = df1['CID']\n",
        "componentFingerprint = []\n",
        "for cid in cidvals:\n",
        "  c = pcp.Compound.from_cid(cid)\n",
        "  componentFingerprint.append(c.cactvs_fingerprint)\n",
        "  tm.sleep(0.1)\n",
        "\n",
        "df2 = df1.assign(fp=componentFingerprint)\n",
        "i = 1\n",
        "for  componentFingerprint in c.cactvs_fingerprint:\n",
        "    df2['fp'] = df2['fp'].astype(str)\n",
        "    df2['fp'+str (i)] = df2['fp'].str[i-1:i]\n",
        "    i = i+ 1\n",
        "#print(componentFingerprint)\n",
        "#print(df2)\n",
        "df2.to_csv('FP_Excipient.csv')"
      ],
      "execution_count": null,
      "outputs": []
    }
  ]
}