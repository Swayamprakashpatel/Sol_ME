{
  "cells": [
    {
      "cell_type": "markdown",
      "metadata": {
        "id": "view-in-github",
        "colab_type": "text"
      },
      "source": [
        "<a href=\"https://colab.research.google.com/github/Swayamprakashpatel/Sol_ME/blob/main/Sol_ME_LogP.ipynb\" target=\"_parent\"><img src=\"https://colab.research.google.com/assets/colab-badge.svg\" alt=\"Open In Colab\"/></a>"
      ]
    },
    {
      "cell_type": "code",
      "execution_count": 3,
      "metadata": {
        "colab": {
          "base_uri": "https://localhost:8080/"
        },
        "id": "CYDFYbE7Lwxg",
        "outputId": "aa0729f8-6e49-4127-e9de-018c14d88501"
      },
      "outputs": [
        {
          "output_type": "stream",
          "name": "stdout",
          "text": [
            "(1050, 1765)\n"
          ]
        }
      ],
      "source": [
        "import tensorflow as tf\n",
        "import matplotlib.pyplot as plt\n",
        "import pandas as pd \n",
        "import numpy as np \n",
        "import io\n",
        "#df = pd.read_csv('/content/drive/My Drive/DE.csv', low_memory=False,)\n",
        "url = '/content/Data_FP_7.csv'\n",
        "df = pd.read_csv(url, low_memory=False,) # Run for labeled data\n",
        " \n",
        "#df.fillna('&',inplace=True)\n",
        "df.drop('DRUG', axis = 1, inplace = True)\n",
        "df.drop('CARRIER', axis = 1, inplace = True)\n",
        "\n",
        "print(df.shape)\n",
        "df.head()\n",
        "df.dtypes\n",
        "#df.columns[df.isna().any()].tolist()\n",
        "dataset = df.values"
      ]
    },
    {
      "cell_type": "code",
      "source": [
        "print(dataset)"
      ],
      "metadata": {
        "colab": {
          "base_uri": "https://localhost:8080/"
        },
        "id": "pwFuJMj72rkO",
        "outputId": "4114780a-681d-4521-ea8d-409a6e8fd5ea"
      },
      "execution_count": 11,
      "outputs": [
        {
          "output_type": "stream",
          "name": "stdout",
          "text": [
            "[[2.4 '14.5' 1 ... 0 0 6.16]\n",
            " [2.4 '-0.8' 1 ... 0 0 4.86]\n",
            " [2.4 '6.5' 1 ... 0 0 15.57]\n",
            " ...\n",
            " [2.0 '2.9' 1 ... 0 0 2.36]\n",
            " [2.0 'None' 1 ... 0 0 1.35]\n",
            " [2.0 '2.5' 1 ... 0 0 2.74]]\n"
          ]
        }
      ]
    },
    {
      "cell_type": "code",
      "execution_count": null,
      "metadata": {
        "id": "_PkGWMn0MR2W"
      },
      "outputs": [],
      "source": [
        "X1 = dataset[:,0:1]/100 #(standardize wiht 100)\n",
        "X2 = dataset[:,1:2]/100\n",
        "X3 = dataset[:,2:1764]\n",
        "X = np.concatenate((X1, X2, X3), axis=1)\n",
        "\n",
        "#Y = dataset[:,1762:1763]\n",
        "# Run this for labeled data\n",
        "Y = dataset[:,1764:1765]\n",
        "\n",
        "#Y = np.log(Y) \n",
        "#print(X, X.shape,X.dtype)\n",
        "#print(Y, Y.shape, Y.dtype)\n",
        "#print(X, X.shape,Y, Y.shape)\n",
        "print(pd.DataFrame(X).head)"
      ]
    },
    {
      "cell_type": "code",
      "execution_count": null,
      "metadata": {
        "id": "HjBna8fTMZ44",
        "outputId": "9a6dc0bd-e414-4f83-d8e3-ea14a446832f",
        "colab": {
          "base_uri": "https://localhost:8080/"
        }
      },
      "outputs": [
        {
          "output_type": "stream",
          "name": "stdout",
          "text": [
            "1\n"
          ]
        }
      ],
      "source": [
        "from sklearn import preprocessing\n",
        "from sklearn.model_selection import train_test_split\n",
        "X_train, X_val_and_test, Y_train, Y_val_and_test = train_test_split(X, Y, test_size=0.2,random_state = 10 )\n",
        "X_val, X_test, Y_val, Y_test = train_test_split(X_val_and_test, Y_val_and_test, test_size=0.5, random_state= 10)\n",
        "import numpy as np\n",
        " \n",
        "X_train = np.asarray(X_train).astype(np.int64)\n",
        "X_val = np.asarray(X_val).astype(np.int64)\n",
        "X_test = np.asarray(X_test).astype(np.int64)\n",
        "Y_train = np.asarray(Y_train).astype(np.int64)\n",
        "Y_val = np.asarray(Y_val).astype(np.int64)\n",
        "Y_test = np.asarray(Y_test).astype(np.int64)\n",
        " \n",
        "filepath = '/content/drive/My Drive/SOLModel.hdf5'\n",
        " \n",
        "checkpoint = [tf.keras.callbacks.ModelCheckpoint(filepath, monitor='val_root_mean_squared_error', mode='min', save_best_only=True, Save_weights_only = False, verbose = 1), \n",
        "              tf.keras.callbacks.EarlyStopping(monitor='val_root_mean_squared_error', patience=575, verbose =1)]\n",
        "output_nodes = Y.shape[1]\n",
        "print(output_nodes)\n"
      ]
    },
    {
      "cell_type": "code",
      "execution_count": null,
      "metadata": {
        "id": "gpfXKFM52New"
      },
      "outputs": [],
      "source": [
        "model = tf.keras.Sequential([\n",
        "                             tf.keras.layers.Dense(512, activation='relu', input_shape=(1764,)),\n",
        "                             tf.keras.layers.Dense(512, activation='relu'),\n",
        "                             #tf.keras.layers.Dense(1762, activation='relu'),\n",
        "                             tf.keras.layers.Dense(output_nodes, activation ='relu')])\n",
        "\n",
        "model.compile(optimizer=tf.keras.optimizers.Adadelta(learning_rate = 0.5), loss=tf.keras.losses.MeanSquaredError(), metrics=[tf.keras.metrics.RootMeanSquaredError()])\n",
        "hist = model.fit(X, Y, epochs= 10000, callbacks=[checkpoint],validation_data=(X, Y), batch_size= None)\n",
        "model.evaluate(X_test, Y_test)\n",
        " \n",
        "# Error Graph\n",
        "\n",
        "plt.plot(hist.history['root_mean_squared_error'])\n",
        "plt.plot(hist.history['val_root_mean_squared_error'])\n",
        "plt.title('Model RMSE')\n",
        "plt.ylabel('Loss')\n",
        "plt.xlabel('Epoch')\n",
        "plt.legend(['Train', 'Val'], loc='upper right')\n",
        "plt.show()\n",
        " \n",
        "\n",
        "train_acc = min(hist.history['root_mean_squared_error'])\n",
        "val_acc = min(hist.history['val_root_mean_squared_error'])\n",
        "train_loss = min(hist.history['loss'])\n",
        "val_loss = min(hist.history['val_loss'])\n",
        "print('Training RMSE is')\n",
        "print(train_acc)\n",
        "print('Validation RMSE is')\n",
        "print(val_acc)\n",
        "print('Training loss is')\n",
        "print(train_loss)\n",
        "print('Validation loss is')\n",
        "print(val_loss)\n",
        "\n"
      ]
    },
    {
      "cell_type": "code",
      "source": [
        "plt.plot(hist.history['root_mean_squared_error'])\n",
        "plt.plot(hist.history['val_root_mean_squared_error'])\n",
        "plt.title('Model RMSE')\n",
        "plt.ylabel('RMSE')\n",
        "plt.xlabel('Epoch')\n",
        "plt.legend(['Train', 'Val'], loc='upper right')\n",
        "plt.show()\n",
        "plt.savefig('Training.svg', dpi = 600)\n",
        "\n"
      ],
      "metadata": {
        "colab": {
          "base_uri": "https://localhost:8080/",
          "height": 312
        },
        "id": "dEU0IEy1RelO",
        "outputId": "af9286a9-cad3-4393-9992-0ffe448f5adc"
      },
      "execution_count": null,
      "outputs": [
        {
          "output_type": "display_data",
          "data": {
            "text/plain": [
              "<Figure size 432x288 with 1 Axes>"
            ],
            "image/png": "[encoded data removed]"
          },
          "metadata": {
            "needs_background": "light"
          }
        },
        {
          "output_type": "display_data",
          "data": {
            "text/plain": [
              "<Figure size 432x288 with 0 Axes>"
            ]
          },
          "metadata": {}
        }
      ]
    },
    {
      "cell_type": "code",
      "source": [
        "from sklearn.metrics import r2_score\n",
        "true_value = Y\n",
        "predicted_value = model.predict(X)\n",
        "\n",
        "plt.figure(figsize=(15,15))\n",
        "plt.scatter(true_value, predicted_value, c='maroon')\n",
        "plt.yscale('linear')\n",
        "plt.xscale('linear')\n",
        "\n",
        "p1 = max(max(predicted_value), max(true_value))\n",
        "p2 = min(min(predicted_value), min(true_value))\n",
        "plt.plot([p1, p2], [p1, p2], 'blue')\n",
        "plt.xlabel('True Values', fontsize=15)\n",
        "plt.ylabel('Predictions', fontsize=15)\n",
        "plt.axis('equal')\n",
        "plt.title('Predicted vs Actual')\n",
        "plt.annotate(\"r-squared = {:.3f}\".format(r2_score(true_value, predicted_value)), (1,650), )\n",
        "plt.xticks( range(0,800,50) )\n",
        "plt.yticks( range(0,800,50) )\n",
        "#plt.show()\n",
        "plt.savefig('P_A.svg', dpi = 1200)"
      ],
      "metadata": {
        "colab": {
          "base_uri": "https://localhost:8080/",
          "height": 898
        },
        "id": "3K6yNNncNdqP",
        "outputId": "e36e2761-12d5-4e46-c6e0-2203d6cb6329"
      },
      "execution_count": null,
      "outputs": [
        {
          "output_type": "display_data",
          "data": {
            "text/plain": [
              "<Figure size 1080x1080 with 1 Axes>"
            ],
            "image/png": "[encoded data removed]"
          },
          "metadata": {
            "needs_background": "light"
          }
        }
      ]
    },
    {
      "cell_type": "code",
      "execution_count": null,
      "metadata": {
        "id": "j7h6tGeSEZ3S",
        "cellView": "form"
      },
      "outputs": [],
      "source": [
        "#@title Insert PubChem Fingerprint of Drug and Carrier (Oil, Surfactant, Cosurfactant)\n",
        "!pip install pubchempy\n",
        "import tensorflow as tf\n",
        "import pandas as pd \n",
        "import numpy as np \n",
        "import io\n",
        "from tensorflow import keras\n",
        "import pubchempy as pcp\n",
        "from sklearn.preprocessing import OneHotEncoder\n",
        "from keras.models import load_model\n",
        "import time as tm\n",
        "from google_drive_downloader import GoogleDriveDownloader as gdd\n",
        "\n",
        "gdd.download_file_from_google_drive(file_id='1TG-Ati7Za3NUUMP48kPiCoydanpjYCBI',\n",
        "                                   dest_path='/content/sample_data/Sol_ME.hdf5',\n",
        "                                   unzip=False)\n",
        "Load Model\n",
        "model = load_model('/content/sample_data/Sol_ME.hdf5', compile= True)\n",
        "\n",
        "\n",
        "Drug_CID =  24872560#@param {type:\"number\"}\n",
        "Excipient_CID =  8146#@param {type:\"number\"}\n",
        "\n",
        "#LOGP of DRUG AND CARRIER\n",
        "logp_D = pcp.Compound.from_cid(Drug_CID)\n",
        "logp_D = logp_D.xlogp\n",
        "logp_D = logp_D/100\n",
        "\n",
        "logp_C = pcp.Compound.from_cid(Excipient_CID)\n",
        "logp_C = logp_C.xlogp\n",
        "logp_C = logp_C/100\n",
        "\n",
        "#FINGERPRINT OF DRUG AND CARRIER\n",
        "CID_D = pcp.Compound.from_cid(Drug_CID)\n",
        "CID_E = pcp.Compound.from_cid(Excipient_CID)\n",
        "\n",
        "FPD = CID_D.cactvs_fingerprint\n",
        "FPE = CID_E.cactvs_fingerprint\n",
        "\n",
        "List1 = list(logp_D)\n",
        "List2 = list(logp_C)\n",
        "List3 = list(FPD)\n",
        "List4 = list(FPE)\n",
        "List = List1 + List2 + List3 + List4\n",
        " \n",
        "import pandas as pd\n",
        "t = pd.DataFrame(np.array(List).reshape(-1,len(List)))\n",
        " \n",
        "#@title RUN FOR PREDICTION\n",
        " \n",
        " \n",
        "dataset1 = t.values\n",
        "t.dtype = int\n",
        "X_Predict = (dataset1[:,0:1762].astype(int))\n",
        "print(X_Predict)\n",
        "print(X_Predict.shape)\n",
        "print(X_Predict.dtype)\n",
        " \n",
        "Y_prediction = model.predict(X_Predict)\n",
        " \n",
        "print(Y_prediction, \"mg/ml\")"
      ]
    },
    {
      "cell_type": "code",
      "source": [],
      "metadata": {
        "id": "2Te3mJ2XqXGT"
      },
      "execution_count": null,
      "outputs": []
    }
  ],
  "metadata": {
    "colab": {
      "collapsed_sections": [],
      "name": "Sol_ME.ipynb",
      "provenance": [],
      "authorship_tag": "ABX9TyNvIUWnrmp+iOY+HWWedkhA",
      "include_colab_link": true
    },
    "kernelspec": {
      "display_name": "Python 3",
      "name": "python3"
    },
    "language_info": {
      "name": "python"
    }
  },
  "nbformat": 4,
  "nbformat_minor": 0
}