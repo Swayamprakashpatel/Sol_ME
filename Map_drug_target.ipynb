{
  "nbformat": 4,
  "nbformat_minor": 0,
  "metadata": {
    "colab": {
      "provenance": [],
      "authorship_tag": "ABX9TyNAOWioGUdP8YpR5shWH6v2",
      "include_colab_link": true
    },
    "kernelspec": {
      "name": "python3",
      "display_name": "Python 3"
    },
    "language_info": {
      "name": "python"
    }
  },
  "cells": [
    {
      "cell_type": "markdown",
      "metadata": {
        "id": "view-in-github",
        "colab_type": "text"
      },
      "source": [
        "<a href=\"https://colab.research.google.com/github/Swayamprakashpatel/Sol_ME/blob/main/Map_drug_target.ipynb\" target=\"_parent\"><img src=\"https://colab.research.google.com/assets/colab-badge.svg\" alt=\"Open In Colab\"/></a>"
      ]
    },
    {
      "cell_type": "code",
      "source": [
        "import pandas as pd\n",
        "\n",
        "# Read the main Excel file - Drug-Target\n",
        "df = pd.read_excel('/content/Drug_Target_ID.xlsx')\n",
        "\n",
        "\n",
        "# Read the Sequence values from the Sequence Excel file - Target_ID and Sequence\n",
        "sequence_df = pd.read_excel('/content/Target_Sequence.xlsx')\n",
        "\n",
        "# Create a dictionary for the Sequence values\n",
        "sequence_values = dict(zip(sequence_df['Target_ID'], sequence_df['Sequence']))\n",
        "\n",
        "\n",
        "# Read the Smile values from the Smile Excel file - Drug_ID and SMILE\n",
        "smile_df = pd.read_excel('/content/Drug_SMILE.xlsx')\n",
        "\n",
        "# Create a dictionary for the Smile values\n",
        "smile_values = dict(zip(smile_df['Drug_ID'], smile_df['SMILE']))\n",
        "\n",
        "\n",
        "# Read the Sequence values from the Sequence Excel file - Target_ID and Target_Name\n",
        "Target_Name_df = pd.read_excel('/content/Target_Name.xlsx')\n",
        "\n",
        "# Create a dictionary for the Sequence values\n",
        "Target_values = dict(zip(Target_Name_df['Target_ID'], Target_Name_df['Target_Name']))\n",
        "\n",
        "# Read the Fingerprint values from the Fingerprint Excel file - Drug_ID and Fingerprint\n",
        "Fingerprint = pd.read_excel('/content/Fingerprint.xlsx')\n",
        "\n",
        "# Create a dictionary for the Fingerprint columns\n",
        "fingerprint_values = {}\n",
        "for column in Fingerprint.columns[1:]:\n",
        "    fingerprint_values[column] = dict(zip(Fingerprint['Drug_ID'], Fingerprint[column]))\n",
        "\n",
        "# Create new columns for Sequence, Smile, and Fingerprint\n",
        "df['Sequence'] = df['Target_ID'].map(sequence_values)\n",
        "df['SMILE'] = df['Drug_ID'].map(smile_values)\n",
        "df['Target_Name'] = df['Target_ID'].map(Target_values)\n",
        "\n",
        "# Map the Fingerprint columns\n",
        "for column in fingerprint_values:\n",
        "    df[column] = df['Drug_ID'].map(fingerprint_values[column])\n",
        "\n",
        "# Save the updated data back to the main Excel file\n",
        "#df.to_excel('/content/updated_excel_file.xlsx', index=False)\n"
      ],
      "metadata": {
        "id": "6vRAsZ9PXaV8"
      },
      "execution_count": null,
      "outputs": []
    },
    {
      "cell_type": "code",
      "source": [
        "df.to_csv('/content/updated_excel_file.csv', index=False)\n"
      ],
      "metadata": {
        "id": "M2bJOfkpdsQY"
      },
      "execution_count": 8,
      "outputs": []
    }
  ]
}