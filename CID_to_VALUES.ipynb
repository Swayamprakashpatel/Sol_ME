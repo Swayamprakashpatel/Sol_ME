{
  "cells": [
    {
      "cell_type": "markdown",
      "metadata": {
        "id": "view-in-github",
        "colab_type": "text"
      },
      "source": [
        "<a href=\"https://colab.research.google.com/github/Swayamprakashpatel/Sol_ME/blob/main/CID_to_VALUES.ipynb\" target=\"_parent\"><img src=\"https://colab.research.google.com/assets/colab-badge.svg\" alt=\"Open In Colab\"/></a>"
      ]
    },
    {
      "cell_type": "code",
      "execution_count": 1,
      "metadata": {
        "colab": {
          "base_uri": "https://localhost:8080/"
        },
        "id": "DUGN-gXm3qEj",
        "outputId": "d849b087-c2dd-4726-c5c1-11b4ce657834"
      },
      "outputs": [
        {
          "output_type": "stream",
          "name": "stdout",
          "text": [
            "Looking in indexes: https://pypi.org/simple, https://us-python.pkg.dev/colab-wheels/public/simple/\n",
            "Collecting pubchempy\n",
            "  Downloading PubChemPy-1.0.4.tar.gz (29 kB)\n",
            "  Preparing metadata (setup.py) ... \u001b[?25l\u001b[?25hdone\n",
            "Building wheels for collected packages: pubchempy\n",
            "  Building wheel for pubchempy (setup.py) ... \u001b[?25l\u001b[?25hdone\n",
            "  Created wheel for pubchempy: filename=PubChemPy-1.0.4-py3-none-any.whl size=13820 sha256=a80373fec99e34d7718765f3477397b702f44504b91fc30d86971c247d29f7a3\n",
            "  Stored in directory: /root/.cache/pip/wheels/90/7c/45/18a0671e3c3316966ef7ed9ad2b3f3300a7e41d3421a44e799\n",
            "Successfully built pubchempy\n",
            "Installing collected packages: pubchempy\n",
            "Successfully installed pubchempy-1.0.4\n"
          ]
        }
      ],
      "source": [
        "!pip install pubchempy\n",
        "import pubchempy as pcp"
      ]
    },
    {
      "cell_type": "code",
      "execution_count": 2,
      "metadata": {
        "id": "zn63kOno3rhb"
      },
      "outputs": [],
      "source": [
        "import tensorflow as tf\n",
        "import pandas as pd \n",
        "import numpy as np \n",
        "import io\n",
        "import time as tm"
      ]
    },
    {
      "cell_type": "code",
      "execution_count": null,
      "metadata": {
        "id": "fbrl7Zj23v8F"
      },
      "outputs": [],
      "source": [
        "df1 = pd.read_csv('/content/Data_FP_7.csv')"
      ]
    },
    {
      "cell_type": "code",
      "execution_count": null,
      "metadata": {
        "colab": {
          "base_uri": "https://localhost:8080/"
        },
        "id": "x2FF9eOO349a",
        "outputId": "a9bcc4eb-c8d6-4faf-9b91-d7d03ff561ab"
      },
      "outputs": [
        {
          "output_type": "execute_result",
          "data": {
            "text/plain": [
              "<bound method NDFrame.head of        CARRIER\n",
              "0     71306824\n",
              "1       122222\n",
              "2      5283468\n",
              "3      5283469\n",
              "4       106773\n",
              "...        ...\n",
              "1045    124898\n",
              "1046   3033877\n",
              "1047    109307\n",
              "1048    104840\n",
              "1049    443314\n",
              "\n",
              "[1050 rows x 1 columns]>"
            ]
          },
          "metadata": {},
          "execution_count": 9
        }
      ],
      "source": [
        "df1 = df1.iloc[:,1:2]\n",
        "df1.head"
      ]
    },
    {
      "cell_type": "code",
      "execution_count": null,
      "metadata": {
        "colab": {
          "base_uri": "https://localhost:8080/"
        },
        "id": "SLQTgn0Y37rv",
        "outputId": "9490ee90-7f81-480f-c1c9-9e428f4cd5b9"
      },
      "outputs": [
        {
          "name": "stdout",
          "output_type": "stream",
          "text": [
            "           DRUG\n",
            "0           807\n",
            "1           807\n",
            "2           807\n",
            "3           807\n",
            "4           807\n",
            "...         ...\n",
            "1057  135510708\n",
            "1058  135510708\n",
            "1059  135510708\n",
            "1060  135510708\n",
            "1061  135510708\n",
            "\n",
            "[1062 rows x 1 columns]\n"
          ]
        }
      ],
      "source": [
        "print(df1)"
      ]
    },
    {
      "cell_type": "markdown",
      "source": [
        "**CID to LOG P value**"
      ],
      "metadata": {
        "id": "QQ_DYmkapQY5"
      }
    },
    {
      "cell_type": "code",
      "execution_count": null,
      "metadata": {
        "id": "FCYqBt0i4EHZ"
      },
      "outputs": [],
      "source": [
        "cidvals = df1['CARRIER']\n",
        "componentlogp = []\n",
        "for cid in cidvals:\n",
        "  c = pcp.Compound.from_cid(cid)\n",
        "  componentlogp.append([c.xlogp])\n",
        "  tm.sleep(0.1)\n",
        "df2 = df1.assign(LogP=componentlogp)\n",
        "i = 1\n",
        "for  componentFingerprint in [c.xlogp]:\n",
        "    df2['LogP'] = df2['LogP'].astype(str)\n",
        "    #df2['LogP'+str (i)] = df2['LogP'].str[i-1:i]\n",
        "    i = i+ 1"
      ]
    },
    {
      "cell_type": "code",
      "execution_count": null,
      "metadata": {
        "id": "qiQFST9n606c"
      },
      "outputs": [],
      "source": [
        "df2.to_csv('Drug_logp.csv')"
      ]
    },
    {
      "cell_type": "code",
      "execution_count": null,
      "metadata": {
        "colab": {
          "base_uri": "https://localhost:8080/"
        },
        "id": "0tltOA7G8YVQ",
        "outputId": "7c84e018-5f7d-417a-f330-11dd7d697ad6"
      },
      "outputs": [
        {
          "name": "stdout",
          "output_type": "stream",
          "text": [
            "      DRUG   LogP\n",
            "0    71771  [4.3]\n",
            "1    71771  [4.3]\n",
            "2    71771  [4.3]\n",
            "3    71771  [4.3]\n",
            "4     3672  [3.5]\n",
            "..     ...    ...\n",
            "424  65863  [6.3]\n",
            "425  65863  [6.3]\n",
            "426  65863  [6.3]\n",
            "427  65863  [6.3]\n",
            "428  65863  [6.3]\n",
            "\n",
            "[429 rows x 2 columns]\n"
          ]
        }
      ],
      "source": [
        "print(df2)"
      ]
    },
    {
      "cell_type": "code",
      "execution_count": null,
      "metadata": {
        "id": "B-Rvn1Tq9gha"
      },
      "outputs": [],
      "source": [
        "pcp.get_properties()"
      ]
    },
    {
      "cell_type": "markdown",
      "source": [
        "**CID TO CANONICAL SMILES**"
      ],
      "metadata": {
        "id": "gIPf9zQ-pZk2"
      }
    },
    {
      "cell_type": "code",
      "execution_count": null,
      "metadata": {
        "id": "AqWdAaLH_5ny"
      },
      "outputs": [],
      "source": [
        "cidvals = df1['DRUG']\n",
        "componentlogp = []\n",
        "for cid in cidvals:\n",
        "  c = pcp.Compound.from_cid(cid)\n",
        "  componentlogp.append([c.isomeric_smiles])\n",
        "  tm.sleep(0.1)\n",
        "df2 = df1.assign(LogP=componentlogp)\n",
        "i = i+ 1\n",
        "df2['SMILE'].str[0]\n",
        "df2.to_csv('Drug_smile.csv')"
      ]
    },
    {
      "cell_type": "code",
      "execution_count": null,
      "metadata": {
        "id": "Wo-Qsb87VmzZ"
      },
      "outputs": [],
      "source": [
        "df2.to_csv('Drug_smile.csv')"
      ]
    },
    {
      "cell_type": "code",
      "execution_count": null,
      "metadata": {
        "colab": {
          "base_uri": "https://localhost:8080/"
        },
        "id": "YUDJkW1HACVc",
        "outputId": "4cdbd374-bbd4-42d9-d2db-9b2113b16eb4"
      },
      "outputs": [
        {
          "name": "stdout",
          "output_type": "stream",
          "text": [
            "      CARRIER                                               LogP\n",
            "0      445639                       [CCCCCCCC/C=C\\CCCCCCCC(=O)O]\n",
            "1        8042                         [CCCCCCCCCCCCCC(=O)OC(C)C]\n",
            "2    24753271  [CCCCCCCCCCCCCCCCCC(=O)OCC.CCCCCCCCCCCCCCCC(=O...\n",
            "3        8146                                        [CCOCCOCCO]\n",
            "4     5363269                     [CCCCCCCC/C=C\\CCCCCCCC(=O)OCC]\n",
            "..        ...                                                ...\n",
            "424      8907                       [CCCCCCCCCCCCCCCC(=O)OC(C)C]\n",
            "425   5284448  [CCCCCCCC/C=C/CCCCCCCC(=O)OCCOCC(C1C(CC(O1)OCC...\n",
            "426    104840                                 [C1CO1.C(C(CO)O)O]\n",
            "427      1030                                          [CC(CO)O]\n",
            "428      4946                 [CC(C)NCC(COC1=CC=CC2=CC=CC=C21)O]\n",
            "\n",
            "[429 rows x 2 columns]\n"
          ]
        }
      ],
      "source": [
        "print(df2)"
      ]
    },
    {
      "cell_type": "code",
      "execution_count": null,
      "metadata": {
        "colab": {
          "base_uri": "https://localhost:8080/",
          "height": 36
        },
        "id": "eT1JqA7FNu2Z",
        "outputId": "55852c5f-99fd-4ae3-ac1c-f0be575b08e4"
      },
      "outputs": [
        {
          "data": {
            "application/vnd.google.colaboratory.intrinsic+json": {
              "type": "string"
            },
            "text/plain": [
              "'C1C[C@@H]2[C@H]3CCC[N+]4([C@H]3[C@@H](CCC4)CN2C(=O)C1)[O-]'"
            ]
          },
          "execution_count": 18,
          "metadata": {},
          "output_type": "execute_result"
        }
      ],
      "source": [
        "c.isomeric_smiles"
      ]
    },
    {
      "cell_type": "markdown",
      "source": [
        "**CID TO PUBCHEM FINGERPRING**"
      ],
      "metadata": {
        "id": "8nDpPgDsqa5_"
      }
    },
    {
      "cell_type": "code",
      "execution_count": null,
      "metadata": {
        "id": "WMRUP0pwNwML"
      },
      "outputs": [],
      "source": [
        "#FOR DRUGS\n",
        "\n",
        "df1 = pd.read_csv('/content/smiles.csv')\n",
        "#df1 = df.iloc[0:775,:]\n",
        "#print(df1)\n",
        "\n",
        "cidvals = df1['CID']\n",
        "componentFingerprint = []\n",
        "for cid in cidvals:\n",
        "  c = pcp.Compound.from_cid(cid)\n",
        "  componentFingerprint.append(c.cactvs_fingerprint)\n",
        "  tm.sleep(0.1)\n",
        "\n",
        "df2 = df1.assign(fp=componentFingerprint)\n",
        "i = 1\n",
        "for  componentFingerprint in c.cactvs_fingerprint:\n",
        "    df2['fp'] = df2['fp'].astype(str)\n",
        "    df2['fp'+str (i)] = df2['fp'].str[i-1:i]\n",
        "    i = i+ 1\n",
        "#print(componentFingerprint)\n",
        "#print(df2)\n",
        "\n",
        "df2.to_csv('Drug_FP.csv')"
      ]
    },
    {
      "cell_type": "markdown",
      "source": [
        "**CID TO MOL. WT**"
      ],
      "metadata": {
        "id": "i3L8HyuN8fN6"
      }
    },
    {
      "cell_type": "code",
      "source": [
        "#FOR DRUGS\n",
        "\n",
        "df1 = pd.read_csv('/content/Data_FP_7.csv')\n",
        "#df1 = df.iloc[0:775,:]\n",
        "#print(df1)\n",
        "\n",
        "cidvals = df1['CARRIER']\n",
        "componentFingerprint = []\n",
        "for cid in cidvals:\n",
        "  c = pcp.Compound.from_cid(cid)\n",
        "  componentFingerprint.append(c.molecular_weight)\n",
        "  tm.sleep(0.1)\n",
        "\n",
        "df2 = df1.assign(fp=componentFingerprint)\n",
        "i = 1\n",
        "for  componentFingerprint in c.cactvs_fingerprint:\n",
        "    df2['fp'] = df2['fp'].astype(str)\n",
        "    df2['fp'+str (i)] = df2['fp'].str[i-1:i]\n",
        "    i = i+ 1\n",
        "#print(componentFingerprint)\n",
        "#print(df2)\n",
        "\n",
        "df2.to_csv('Carrier_mw.csv')"
      ],
      "metadata": {
        "id": "xJIYDuoL8eH7"
      },
      "execution_count": null,
      "outputs": []
    },
    {
      "cell_type": "code",
      "source": [],
      "metadata": {
        "id": "J3iyY8_OB1Qb"
      },
      "execution_count": null,
      "outputs": []
    }
  ],
  "metadata": {
    "colab": {
      "provenance": [],
      "authorship_tag": "ABX9TyPaE1h2UImJ04OpnKdtXMFJ",
      "include_colab_link": true
    },
    "kernelspec": {
      "display_name": "Python 3",
      "name": "python3"
    },
    "language_info": {
      "name": "python"
    }
  },
  "nbformat": 4,
  "nbformat_minor": 0
}