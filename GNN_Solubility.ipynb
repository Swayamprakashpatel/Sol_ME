{
  "nbformat": 4,
  "nbformat_minor": 0,
  "metadata": {
    "colab": {
      "provenance": [],
      "authorship_tag": "ABX9TyPDYEdXayyYnX+Qj1D4LUgA",
      "include_colab_link": true
    },
    "kernelspec": {
      "name": "python3",
      "display_name": "Python 3"
    },
    "language_info": {
      "name": "python"
    }
  },
  "cells": [
    {
      "cell_type": "markdown",
      "metadata": {
        "id": "view-in-github",
        "colab_type": "text"
      },
      "source": [
        "<a href=\"https://colab.research.google.com/github/Swayamprakashpatel/Sol_ME/blob/main/GNN_Solubility.ipynb\" target=\"_parent\"><img src=\"https://colab.research.google.com/assets/colab-badge.svg\" alt=\"Open In Colab\"/></a>"
      ]
    },
    {
      "cell_type": "markdown",
      "source": [
        "SMILE to Graph Neural Network for SOluhbilty Prediction"
      ],
      "metadata": {
        "id": "UieB0OXzSOlw"
      }
    },
    {
      "cell_type": "code",
      "execution_count": null,
      "metadata": {
        "id": "UGZSI2smSHLp"
      },
      "outputs": [],
      "source": [
        "!pip install rdkit-pypi tensorflow tensorflow-addons\n"
      ]
    },
    {
      "cell_type": "code",
      "source": [
        "import pandas as pd\n",
        "import tensorflow as tf\n",
        "from tensorflow.keras.models import Sequential\n",
        "from tensorflow.keras.layers import Dense, Flatten\n",
        "from tensorflow_addons.layers import GCNConv\n",
        "from rdkit import Chem\n",
        "from rdkit.Chem import AllChem\n",
        "import numpy as np\n",
        "\n",
        "# Load the dataset\n",
        "df = pd.read_csv('path_to_your_dataset.csv')\n",
        "\n",
        "# Function to convert SMILES to a graph\n",
        "def smiles_to_graph(smiles):\n",
        "    mol = Chem.MolFromSmiles(smiles)\n",
        "    if mol is None:\n",
        "        return None\n",
        "    AllChem.Compute2DCoords(mol)\n",
        "    atoms = [atom.GetAtomicNum() for atom in mol.GetAtoms()]\n",
        "    edges = []\n",
        "    for bond in mol.GetBonds():\n",
        "        i = bond.GetBeginAtomIdx()\n",
        "        j = bond.GetEndAtomIdx()\n",
        "        edges.append((i, j))\n",
        "        edges.append((j, i))\n",
        "    atom_features = np.array(atoms, dtype=np.float32).reshape(-1, 1)\n",
        "    edge_index = np.array(edges, dtype=np.int32)\n",
        "    return atom_features, edge_index\n",
        "\n",
        "# Process dataset into graph objects\n",
        "data_list = []\n",
        "solubilities = []\n",
        "for index, row in df.iterrows():\n",
        "    drug_graph = smiles_to_graph(row['drug_smiles'])\n",
        "    solvent_graph = smiles_to_graph(row['solvent_smiles'])\n",
        "    if drug_graph is not None and solvent_graph is not None:\n",
        "        data_list.append(drug_graph)\n",
        "        solubilities.append(row['solubility'])\n",
        "\n",
        "# Split data into training and testing sets\n",
        "split_index = int(0.8 * len(data_list))\n",
        "train_data = data_list[:split_index]\n",
        "train_labels = solubilities[:split_index]\n",
        "test_data = data_list[split_index:]\n",
        "test_labels = solubilities[split_index:]\n",
        "\n",
        "# Define the GNN model using TensorFlow Sequential API\n",
        "def create_gnn_model():\n",
        "    model = Sequential()\n",
        "    model.add(GCNConv(16, activation='relu'))\n",
        "    model.add(GCNConv(32, activation='relu'))\n",
        "    model.add(GCNConv(1))\n",
        "    model.add(Flatten())\n",
        "    model.add(Dense(1))\n",
        "    model.compile(optimizer='adam', loss='mse')\n",
        "    return model\n",
        "\n",
        "model = create_gnn_model()\n",
        "\n",
        "# Prepare data for training\n",
        "def prepare_data(data_list, labels):\n",
        "    atom_features = [data[0] for data in data_list]\n",
        "    edge_indices = [data[1] for data in data_list]\n",
        "    atom_features = tf.ragged.constant(atom_features, dtype=tf.float32)\n",
        "    edge_indices = tf.ragged.constant(edge_indices, dtype=tf.int32)\n",
        "    labels = np.array(labels, dtype=np.float32)\n",
        "    return atom_features, edge_indices, labels\n",
        "\n",
        "train_atom_features, train_edge_indices, train_labels = prepare_data(train_data, train_labels)\n",
        "test_atom_features, test_edge_indices, test_labels = prepare_data(test_data, test_labels)\n",
        "\n",
        "# Training loop\n",
        "batch_size = 32\n",
        "epochs = 100\n",
        "\n",
        "for epoch in range(epochs):\n",
        "    model.fit([train_atom_features, train_edge_indices], train_labels, batch_size=batch_size, epochs=1, verbose=1)\n",
        "    test_loss = model.evaluate([test_atom_features, test_edge_indices], test_labels, verbose=0)\n",
        "    print(f'Epoch {epoch+1}, Test Loss: {test_loss:.4f}')\n",
        "\n",
        "# Save the trained model\n",
        "model.save('gnn_model_tf.h5')\n"
      ],
      "metadata": {
        "id": "mUCr2FaFSKcE"
      },
      "execution_count": null,
      "outputs": []
    }
  ]
}